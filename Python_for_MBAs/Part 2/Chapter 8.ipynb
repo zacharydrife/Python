{
 "cells": [
  {
   "cell_type": "markdown",
   "metadata": {},
   "source": [
    "# Chapter 8"
   ]
  },
  {
   "cell_type": "markdown",
   "metadata": {},
   "source": [
    "## Section 8.2"
   ]
  },
  {
   "cell_type": "code",
   "execution_count": 1,
   "metadata": {},
   "outputs": [],
   "source": [
    "import pandas as pd\n",
    "import matplotlib.pyplot as plt"
   ]
  },
  {
   "cell_type": "code",
   "execution_count": 2,
   "metadata": {},
   "outputs": [],
   "source": [
    "df_students = pd.read_pickle('Chapter 5/students.pickle')\n",
    "df_summarized_orders = pd.read_pickle(\n",
    "                       'Chapter 5/summarized_orders.pickle')\n",
    "df_orders = pd.read_pickle('Chapter 7/orders.pickle')"
   ]
  },
  {
   "cell_type": "markdown",
   "metadata": {},
   "source": [
    "## Section 8.3"
   ]
  },
  {
   "cell_type": "code",
   "execution_count": 3,
   "metadata": {},
   "outputs": [
    {
     "data": {
      "text/html": [
       "<div>\n",
       "<style scoped>\n",
       "    .dataframe tbody tr th:only-of-type {\n",
       "        vertical-align: middle;\n",
       "    }\n",
       "\n",
       "    .dataframe tbody tr th {\n",
       "        vertical-align: top;\n",
       "    }\n",
       "\n",
       "    .dataframe thead th {\n",
       "        text-align: right;\n",
       "    }\n",
       "</style>\n",
       "<table border=\"1\" class=\"dataframe\">\n",
       "  <thead>\n",
       "    <tr style=\"text-align: right;\">\n",
       "      <th></th>\n",
       "      <th>FIRST_NAME</th>\n",
       "      <th>LAST_NAME</th>\n",
       "      <th>YEAR</th>\n",
       "      <th>HOME_STATE</th>\n",
       "      <th>AGE</th>\n",
       "      <th>CALC_101_FINAL</th>\n",
       "      <th>ENGLISH_101_FINAL</th>\n",
       "    </tr>\n",
       "  </thead>\n",
       "  <tbody>\n",
       "    <tr>\n",
       "      <th>0</th>\n",
       "      <td>Daniel</td>\n",
       "      <td>Smith</td>\n",
       "      <td>1</td>\n",
       "      <td>NY</td>\n",
       "      <td>18</td>\n",
       "      <td>90.0</td>\n",
       "      <td>80.0</td>\n",
       "    </tr>\n",
       "    <tr>\n",
       "      <th>1</th>\n",
       "      <td>Ben</td>\n",
       "      <td>Leibstrom</td>\n",
       "      <td>1</td>\n",
       "      <td>NY</td>\n",
       "      <td>19</td>\n",
       "      <td>80.0</td>\n",
       "      <td>NaN</td>\n",
       "    </tr>\n",
       "    <tr>\n",
       "      <th>2</th>\n",
       "      <td>Kavita</td>\n",
       "      <td>Kanabar</td>\n",
       "      <td>1</td>\n",
       "      <td>PA</td>\n",
       "      <td>19</td>\n",
       "      <td>NaN</td>\n",
       "      <td>NaN</td>\n",
       "    </tr>\n",
       "    <tr>\n",
       "      <th>3</th>\n",
       "      <td>Linda</td>\n",
       "      <td>Thiel</td>\n",
       "      <td>4</td>\n",
       "      <td>CA</td>\n",
       "      <td>22</td>\n",
       "      <td>60.0</td>\n",
       "      <td>40.0</td>\n",
       "    </tr>\n",
       "    <tr>\n",
       "      <th>4</th>\n",
       "      <td>Omar</td>\n",
       "      <td>Reichel</td>\n",
       "      <td>2</td>\n",
       "      <td>OK</td>\n",
       "      <td>21</td>\n",
       "      <td>70.0</td>\n",
       "      <td>50.0</td>\n",
       "    </tr>\n",
       "  </tbody>\n",
       "</table>\n",
       "</div>"
      ],
      "text/plain": [
       "  FIRST_NAME  LAST_NAME  YEAR HOME_STATE  AGE  CALC_101_FINAL  \\\n",
       "0     Daniel      Smith     1         NY   18            90.0   \n",
       "1        Ben  Leibstrom     1         NY   19            80.0   \n",
       "2     Kavita    Kanabar     1         PA   19             NaN   \n",
       "3      Linda      Thiel     4         CA   22            60.0   \n",
       "4       Omar    Reichel     2         OK   21            70.0   \n",
       "\n",
       "   ENGLISH_101_FINAL  \n",
       "0               80.0  \n",
       "1                NaN  \n",
       "2                NaN  \n",
       "3               40.0  \n",
       "4               50.0  "
      ]
     },
     "execution_count": 3,
     "metadata": {},
     "output_type": "execute_result"
    }
   ],
   "source": [
    "df_students.head()"
   ]
  },
  {
   "cell_type": "code",
   "execution_count": 4,
   "metadata": {},
   "outputs": [
    {
     "data": {
      "text/plain": [
       "YEAR\n",
       "1    18.2\n",
       "2    20.0\n",
       "3    20.0\n",
       "4    22.0\n",
       "Name: AGE, dtype: float64"
      ]
     },
     "execution_count": 4,
     "metadata": {},
     "output_type": "execute_result"
    }
   ],
   "source": [
    "df_students.groupby('YEAR').AGE.mean()"
   ]
  },
  {
   "cell_type": "code",
   "execution_count": 5,
   "metadata": {},
   "outputs": [
    {
     "data": {
      "text/html": [
       "<div>\n",
       "<style scoped>\n",
       "    .dataframe tbody tr th:only-of-type {\n",
       "        vertical-align: middle;\n",
       "    }\n",
       "\n",
       "    .dataframe tbody tr th {\n",
       "        vertical-align: top;\n",
       "    }\n",
       "\n",
       "    .dataframe thead th {\n",
       "        text-align: right;\n",
       "    }\n",
       "</style>\n",
       "<table border=\"1\" class=\"dataframe\">\n",
       "  <thead>\n",
       "    <tr style=\"text-align: right;\">\n",
       "      <th></th>\n",
       "      <th>YEAR</th>\n",
       "      <th>AGE</th>\n",
       "    </tr>\n",
       "  </thead>\n",
       "  <tbody>\n",
       "    <tr>\n",
       "      <th>0</th>\n",
       "      <td>1</td>\n",
       "      <td>18.2</td>\n",
       "    </tr>\n",
       "    <tr>\n",
       "      <th>1</th>\n",
       "      <td>2</td>\n",
       "      <td>20.0</td>\n",
       "    </tr>\n",
       "    <tr>\n",
       "      <th>2</th>\n",
       "      <td>3</td>\n",
       "      <td>20.0</td>\n",
       "    </tr>\n",
       "    <tr>\n",
       "      <th>3</th>\n",
       "      <td>4</td>\n",
       "      <td>22.0</td>\n",
       "    </tr>\n",
       "  </tbody>\n",
       "</table>\n",
       "</div>"
      ],
      "text/plain": [
       "   YEAR   AGE\n",
       "0     1  18.2\n",
       "1     2  20.0\n",
       "2     3  20.0\n",
       "3     4  22.0"
      ]
     },
     "execution_count": 5,
     "metadata": {},
     "output_type": "execute_result"
    }
   ],
   "source": [
    "df_students.groupby('YEAR').AGE.mean().reset_index()"
   ]
  },
  {
   "cell_type": "code",
   "execution_count": 6,
   "metadata": {},
   "outputs": [
    {
     "data": {
      "text/plain": [
       "YEAR  HOME_STATE\n",
       "1     FL            17.5\n",
       "      NY            18.5\n",
       "      PA            19.0\n",
       "2     HI            19.0\n",
       "      OK            21.0\n",
       "3     NY            20.0\n",
       "4     CA            22.0\n",
       "Name: AGE, dtype: float64"
      ]
     },
     "execution_count": 6,
     "metadata": {},
     "output_type": "execute_result"
    }
   ],
   "source": [
    "df_students.groupby(['YEAR', 'HOME_STATE']).AGE.mean()"
   ]
  },
  {
   "cell_type": "code",
   "execution_count": 7,
   "metadata": {},
   "outputs": [
    {
     "data": {
      "text/html": [
       "<div>\n",
       "<style scoped>\n",
       "    .dataframe tbody tr th:only-of-type {\n",
       "        vertical-align: middle;\n",
       "    }\n",
       "\n",
       "    .dataframe tbody tr th {\n",
       "        vertical-align: top;\n",
       "    }\n",
       "\n",
       "    .dataframe thead th {\n",
       "        text-align: right;\n",
       "    }\n",
       "</style>\n",
       "<table border=\"1\" class=\"dataframe\">\n",
       "  <thead>\n",
       "    <tr style=\"text-align: right;\">\n",
       "      <th></th>\n",
       "      <th>YEAR</th>\n",
       "      <th>HOME_STATE</th>\n",
       "      <th>AGE</th>\n",
       "    </tr>\n",
       "  </thead>\n",
       "  <tbody>\n",
       "    <tr>\n",
       "      <th>0</th>\n",
       "      <td>1</td>\n",
       "      <td>FL</td>\n",
       "      <td>17.5</td>\n",
       "    </tr>\n",
       "    <tr>\n",
       "      <th>1</th>\n",
       "      <td>1</td>\n",
       "      <td>NY</td>\n",
       "      <td>18.5</td>\n",
       "    </tr>\n",
       "    <tr>\n",
       "      <th>2</th>\n",
       "      <td>1</td>\n",
       "      <td>PA</td>\n",
       "      <td>19.0</td>\n",
       "    </tr>\n",
       "    <tr>\n",
       "      <th>3</th>\n",
       "      <td>2</td>\n",
       "      <td>HI</td>\n",
       "      <td>19.0</td>\n",
       "    </tr>\n",
       "    <tr>\n",
       "      <th>4</th>\n",
       "      <td>2</td>\n",
       "      <td>OK</td>\n",
       "      <td>21.0</td>\n",
       "    </tr>\n",
       "    <tr>\n",
       "      <th>5</th>\n",
       "      <td>3</td>\n",
       "      <td>NY</td>\n",
       "      <td>20.0</td>\n",
       "    </tr>\n",
       "    <tr>\n",
       "      <th>6</th>\n",
       "      <td>4</td>\n",
       "      <td>CA</td>\n",
       "      <td>22.0</td>\n",
       "    </tr>\n",
       "  </tbody>\n",
       "</table>\n",
       "</div>"
      ],
      "text/plain": [
       "   YEAR HOME_STATE   AGE\n",
       "0     1         FL  17.5\n",
       "1     1         NY  18.5\n",
       "2     1         PA  19.0\n",
       "3     2         HI  19.0\n",
       "4     2         OK  21.0\n",
       "5     3         NY  20.0\n",
       "6     4         CA  22.0"
      ]
     },
     "execution_count": 7,
     "metadata": {},
     "output_type": "execute_result"
    }
   ],
   "source": [
    "df_students.groupby(\n",
    "              ['YEAR', 'HOME_STATE']).AGE.mean().reset_index()"
   ]
  },
  {
   "cell_type": "code",
   "execution_count": 8,
   "metadata": {},
   "outputs": [
    {
     "data": {
      "text/plain": [
       "YEAR\n",
       "1    18.2\n",
       "2    20.0\n",
       "3    20.0\n",
       "4    22.0\n",
       "Name: AGE, dtype: float64"
      ]
     },
     "execution_count": 8,
     "metadata": {},
     "output_type": "execute_result"
    }
   ],
   "source": [
    "df_students.groupby('YEAR')['AGE'].mean()"
   ]
  },
  {
   "cell_type": "code",
   "execution_count": 9,
   "metadata": {},
   "outputs": [
    {
     "data": {
      "text/plain": [
       "<matplotlib.axes._subplots.AxesSubplot at 0x25ebfbf79b0>"
      ]
     },
     "execution_count": 9,
     "metadata": {},
     "output_type": "execute_result"
    },
    {
     "data": {
      "image/png": "[encoded data removed]",
      "text/plain": [
       "<Figure size 432x288 with 1 Axes>"
      ]
     },
     "metadata": {
      "needs_background": "light"
     },
     "output_type": "display_data"
    }
   ],
   "source": [
    "df_students.groupby('YEAR').AGE.mean().plot(kind='bar')"
   ]
  },
  {
   "cell_type": "code",
   "execution_count": 10,
   "metadata": {},
   "outputs": [
    {
     "data": {
      "text/plain": [
       "RESTAURANT_NAME\n",
       "Bryant Park         871.436782\n",
       "Columbia            687.150685\n",
       "Flatiron            772.556164\n",
       "Midtown             891.136986\n",
       "NYU                1180.438356\n",
       "Upper East Side     774.650704\n",
       "Upper West Side     770.372603\n",
       "Williamsburg        862.120548\n",
       "Name: NUM_ORDERS, dtype: float64"
      ]
     },
     "execution_count": 10,
     "metadata": {},
     "output_type": "execute_result"
    }
   ],
   "source": [
    "( df_summarized_orders.groupby('RESTAURANT_NAME')\n",
    "                                 .NUM_ORDERS.mean() )"
   ]
  },
  {
   "cell_type": "code",
   "execution_count": 11,
   "metadata": {},
   "outputs": [
    {
     "data": {
      "text/plain": [
       "NYU                1180.438356\n",
       "Midtown             891.136986\n",
       "Williamsburg        862.120548\n",
       "Flatiron            772.556164\n",
       "Upper West Side     770.372603\n",
       "Upper East Side     753.427397\n",
       "Columbia            687.150685\n",
       "Bryant Park         623.136986\n",
       "Name: RESTAURANT_NAME, dtype: float64"
      ]
     },
     "execution_count": 11,
     "metadata": {},
     "output_type": "execute_result"
    }
   ],
   "source": [
    "df_orders.RESTAURANT_NAME.value_counts() / 365"
   ]
  },
  {
   "cell_type": "markdown",
   "metadata": {},
   "source": [
    "### Section 8.3.1"
   ]
  },
  {
   "cell_type": "code",
   "execution_count": 12,
   "metadata": {},
   "outputs": [
    {
     "data": {
      "text/plain": [
       "RESTAURANT_NAME\n",
       "Bryant Park        227445\n",
       "Columbia           250810\n",
       "Flatiron           281983\n",
       "Midtown            325265\n",
       "NYU                430860\n",
       "Upper East Side    275001\n",
       "Upper West Side    281186\n",
       "Williamsburg       314674\n",
       "Name: TYPE, dtype: int64"
      ]
     },
     "execution_count": 12,
     "metadata": {},
     "output_type": "execute_result"
    }
   ],
   "source": [
    "df_orders.groupby('RESTAURANT_NAME').TYPE.size()"
   ]
  },
  {
   "cell_type": "code",
   "execution_count": 13,
   "metadata": {},
   "outputs": [
    {
     "data": {
      "text/plain": [
       "RESTAURANT_NAME\n",
       "Bryant Park        227445\n",
       "Columbia           250810\n",
       "Flatiron           281983\n",
       "Midtown            325265\n",
       "NYU                430860\n",
       "Upper East Side    275001\n",
       "Upper West Side    281186\n",
       "Williamsburg       314674\n",
       "dtype: int64"
      ]
     },
     "execution_count": 13,
     "metadata": {},
     "output_type": "execute_result"
    }
   ],
   "source": [
    "df_orders.groupby('RESTAURANT_NAME').size()"
   ]
  },
  {
   "cell_type": "code",
   "execution_count": 14,
   "metadata": {},
   "outputs": [
    {
     "data": {
      "text/plain": [
       "NYU                430860\n",
       "Midtown            325265\n",
       "Williamsburg       314674\n",
       "Flatiron           281983\n",
       "Upper West Side    281186\n",
       "Upper East Side    275001\n",
       "Columbia           250810\n",
       "Bryant Park        227445\n",
       "Name: RESTAURANT_NAME, dtype: int64"
      ]
     },
     "execution_count": 14,
     "metadata": {},
     "output_type": "execute_result"
    }
   ],
   "source": [
    "df_orders.RESTAURANT_NAME.value_counts()"
   ]
  },
  {
   "cell_type": "code",
   "execution_count": 15,
   "metadata": {},
   "outputs": [
    {
     "data": {
      "text/plain": [
       "RESTAURANT_NAME  TYPE    \n",
       "Bryant Park      DELIVERY     15613\n",
       "                 IN_STORE    171494\n",
       "                 PICKUP       40338\n",
       "Columbia         DELIVERY     25247\n",
       "                 IN_STORE    182603\n",
       "                 PICKUP       42960\n",
       "Flatiron         DELIVERY     28859\n",
       "                 IN_STORE    204607\n",
       "                 PICKUP       48517\n",
       "Midtown          DELIVERY     22380\n",
       "                 IN_STORE    244980\n",
       "                 PICKUP       57905\n",
       "NYU              DELIVERY     43310\n",
       "                 IN_STORE    314832\n",
       "                 PICKUP       72718\n",
       "Upper East Side  DELIVERY     52080\n",
       "                 IN_STORE    180605\n",
       "                 PICKUP       42316\n",
       "Upper West Side  DELIVERY     53337\n",
       "                 IN_STORE    184588\n",
       "                 PICKUP       43261\n",
       "Williamsburg     DELIVERY     31822\n",
       "                 IN_STORE    229427\n",
       "                 PICKUP       53425\n",
       "dtype: int64"
      ]
     },
     "execution_count": 15,
     "metadata": {},
     "output_type": "execute_result"
    }
   ],
   "source": [
    "df_orders.groupby(['RESTAURANT_NAME', 'TYPE']).size()"
   ]
  },
  {
   "cell_type": "markdown",
   "metadata": {},
   "source": [
    "### Section 8.3.2"
   ]
  },
  {
   "cell_type": "code",
   "execution_count": 16,
   "metadata": {},
   "outputs": [
    {
     "data": {
      "text/html": [
       "<div>\n",
       "<style scoped>\n",
       "    .dataframe tbody tr th:only-of-type {\n",
       "        vertical-align: middle;\n",
       "    }\n",
       "\n",
       "    .dataframe tbody tr th {\n",
       "        vertical-align: top;\n",
       "    }\n",
       "\n",
       "    .dataframe thead th {\n",
       "        text-align: right;\n",
       "    }\n",
       "</style>\n",
       "<table border=\"1\" class=\"dataframe\">\n",
       "  <thead>\n",
       "    <tr style=\"text-align: right;\">\n",
       "      <th></th>\n",
       "      <th>RESTAURANT_NAME</th>\n",
       "      <th>TYPE</th>\n",
       "      <th>0</th>\n",
       "    </tr>\n",
       "  </thead>\n",
       "  <tbody>\n",
       "    <tr>\n",
       "      <th>0</th>\n",
       "      <td>Bryant Park</td>\n",
       "      <td>DELIVERY</td>\n",
       "      <td>15613</td>\n",
       "    </tr>\n",
       "    <tr>\n",
       "      <th>1</th>\n",
       "      <td>Bryant Park</td>\n",
       "      <td>IN_STORE</td>\n",
       "      <td>171494</td>\n",
       "    </tr>\n",
       "    <tr>\n",
       "      <th>2</th>\n",
       "      <td>Bryant Park</td>\n",
       "      <td>PICKUP</td>\n",
       "      <td>40338</td>\n",
       "    </tr>\n",
       "    <tr>\n",
       "      <th>3</th>\n",
       "      <td>Columbia</td>\n",
       "      <td>DELIVERY</td>\n",
       "      <td>25247</td>\n",
       "    </tr>\n",
       "    <tr>\n",
       "      <th>4</th>\n",
       "      <td>Columbia</td>\n",
       "      <td>IN_STORE</td>\n",
       "      <td>182603</td>\n",
       "    </tr>\n",
       "  </tbody>\n",
       "</table>\n",
       "</div>"
      ],
      "text/plain": [
       "  RESTAURANT_NAME      TYPE       0\n",
       "0     Bryant Park  DELIVERY   15613\n",
       "1     Bryant Park  IN_STORE  171494\n",
       "2     Bryant Park    PICKUP   40338\n",
       "3        Columbia  DELIVERY   25247\n",
       "4        Columbia  IN_STORE  182603"
      ]
     },
     "execution_count": 16,
     "metadata": {},
     "output_type": "execute_result"
    }
   ],
   "source": [
    "( df_orders.groupby(['RESTAURANT_NAME', 'TYPE'])\n",
    "                         .size().reset_index().head() )"
   ]
  },
  {
   "cell_type": "code",
   "execution_count": 17,
   "metadata": {},
   "outputs": [
    {
     "data": {
      "text/html": [
       "<div>\n",
       "<style scoped>\n",
       "    .dataframe tbody tr th:only-of-type {\n",
       "        vertical-align: middle;\n",
       "    }\n",
       "\n",
       "    .dataframe tbody tr th {\n",
       "        vertical-align: top;\n",
       "    }\n",
       "\n",
       "    .dataframe thead th {\n",
       "        text-align: right;\n",
       "    }\n",
       "</style>\n",
       "<table border=\"1\" class=\"dataframe\">\n",
       "  <thead>\n",
       "    <tr style=\"text-align: right;\">\n",
       "      <th>TYPE</th>\n",
       "      <th>DELIVERY</th>\n",
       "      <th>IN_STORE</th>\n",
       "      <th>PICKUP</th>\n",
       "    </tr>\n",
       "    <tr>\n",
       "      <th>RESTAURANT_NAME</th>\n",
       "      <th></th>\n",
       "      <th></th>\n",
       "      <th></th>\n",
       "    </tr>\n",
       "  </thead>\n",
       "  <tbody>\n",
       "    <tr>\n",
       "      <th>Bryant Park</th>\n",
       "      <td>15613</td>\n",
       "      <td>171494</td>\n",
       "      <td>40338</td>\n",
       "    </tr>\n",
       "    <tr>\n",
       "      <th>Columbia</th>\n",
       "      <td>25247</td>\n",
       "      <td>182603</td>\n",
       "      <td>42960</td>\n",
       "    </tr>\n",
       "    <tr>\n",
       "      <th>Flatiron</th>\n",
       "      <td>28859</td>\n",
       "      <td>204607</td>\n",
       "      <td>48517</td>\n",
       "    </tr>\n",
       "    <tr>\n",
       "      <th>Midtown</th>\n",
       "      <td>22380</td>\n",
       "      <td>244980</td>\n",
       "      <td>57905</td>\n",
       "    </tr>\n",
       "    <tr>\n",
       "      <th>NYU</th>\n",
       "      <td>43310</td>\n",
       "      <td>314832</td>\n",
       "      <td>72718</td>\n",
       "    </tr>\n",
       "    <tr>\n",
       "      <th>Upper East Side</th>\n",
       "      <td>52080</td>\n",
       "      <td>180605</td>\n",
       "      <td>42316</td>\n",
       "    </tr>\n",
       "    <tr>\n",
       "      <th>Upper West Side</th>\n",
       "      <td>53337</td>\n",
       "      <td>184588</td>\n",
       "      <td>43261</td>\n",
       "    </tr>\n",
       "    <tr>\n",
       "      <th>Williamsburg</th>\n",
       "      <td>31822</td>\n",
       "      <td>229427</td>\n",
       "      <td>53425</td>\n",
       "    </tr>\n",
       "  </tbody>\n",
       "</table>\n",
       "</div>"
      ],
      "text/plain": [
       "TYPE             DELIVERY  IN_STORE  PICKUP\n",
       "RESTAURANT_NAME                            \n",
       "Bryant Park         15613    171494   40338\n",
       "Columbia            25247    182603   42960\n",
       "Flatiron            28859    204607   48517\n",
       "Midtown             22380    244980   57905\n",
       "NYU                 43310    314832   72718\n",
       "Upper East Side     52080    180605   42316\n",
       "Upper West Side     53337    184588   43261\n",
       "Williamsburg        31822    229427   53425"
      ]
     },
     "execution_count": 17,
     "metadata": {},
     "output_type": "execute_result"
    }
   ],
   "source": [
    "df_orders.groupby(['RESTAURANT_NAME', 'TYPE']).size().unstack()"
   ]
  },
  {
   "cell_type": "markdown",
   "metadata": {},
   "source": [
    "## Section 8.4"
   ]
  },
  {
   "cell_type": "code",
   "execution_count": 18,
   "metadata": {},
   "outputs": [
    {
     "data": {
      "text/html": [
       "<div>\n",
       "<style scoped>\n",
       "    .dataframe tbody tr th:only-of-type {\n",
       "        vertical-align: middle;\n",
       "    }\n",
       "\n",
       "    .dataframe tbody tr th {\n",
       "        vertical-align: top;\n",
       "    }\n",
       "\n",
       "    .dataframe thead th {\n",
       "        text-align: right;\n",
       "    }\n",
       "</style>\n",
       "<table border=\"1\" class=\"dataframe\">\n",
       "  <thead>\n",
       "    <tr style=\"text-align: right;\">\n",
       "      <th></th>\n",
       "      <th>DRINKS</th>\n",
       "      <th>COOKIES</th>\n",
       "    </tr>\n",
       "    <tr>\n",
       "      <th>RESTAURANT_NAME</th>\n",
       "      <th></th>\n",
       "      <th></th>\n",
       "    </tr>\n",
       "  </thead>\n",
       "  <tbody>\n",
       "    <tr>\n",
       "      <th>Bryant Park</th>\n",
       "      <td>0.098138</td>\n",
       "      <td>0.261294</td>\n",
       "    </tr>\n",
       "    <tr>\n",
       "      <th>Columbia</th>\n",
       "      <td>0.066572</td>\n",
       "      <td>0.259049</td>\n",
       "    </tr>\n",
       "    <tr>\n",
       "      <th>Flatiron</th>\n",
       "      <td>0.097637</td>\n",
       "      <td>0.259161</td>\n",
       "    </tr>\n",
       "    <tr>\n",
       "      <th>Midtown</th>\n",
       "      <td>0.126128</td>\n",
       "      <td>0.260683</td>\n",
       "    </tr>\n",
       "    <tr>\n",
       "      <th>NYU</th>\n",
       "      <td>0.075769</td>\n",
       "      <td>0.258898</td>\n",
       "    </tr>\n",
       "    <tr>\n",
       "      <th>Upper East Side</th>\n",
       "      <td>0.118145</td>\n",
       "      <td>0.257603</td>\n",
       "    </tr>\n",
       "    <tr>\n",
       "      <th>Upper West Side</th>\n",
       "      <td>0.097032</td>\n",
       "      <td>0.260475</td>\n",
       "    </tr>\n",
       "    <tr>\n",
       "      <th>Williamsburg</th>\n",
       "      <td>0.096446</td>\n",
       "      <td>0.258750</td>\n",
       "    </tr>\n",
       "  </tbody>\n",
       "</table>\n",
       "</div>"
      ],
      "text/plain": [
       "                   DRINKS   COOKIES\n",
       "RESTAURANT_NAME                    \n",
       "Bryant Park      0.098138  0.261294\n",
       "Columbia         0.066572  0.259049\n",
       "Flatiron         0.097637  0.259161\n",
       "Midtown          0.126128  0.260683\n",
       "NYU              0.075769  0.258898\n",
       "Upper East Side  0.118145  0.257603\n",
       "Upper West Side  0.097032  0.260475\n",
       "Williamsburg     0.096446  0.258750"
      ]
     },
     "execution_count": 18,
     "metadata": {},
     "output_type": "execute_result"
    }
   ],
   "source": [
    "( df_orders.groupby('RESTAURANT_NAME')[['DRINKS', 'COOKIES']]\n",
    "                                                      .mean() )"
   ]
  },
  {
   "cell_type": "code",
   "execution_count": 19,
   "metadata": {},
   "outputs": [
    {
     "data": {
      "text/html": [
       "<div>\n",
       "<style scoped>\n",
       "    .dataframe tbody tr th:only-of-type {\n",
       "        vertical-align: middle;\n",
       "    }\n",
       "\n",
       "    .dataframe tbody tr th {\n",
       "        vertical-align: top;\n",
       "    }\n",
       "\n",
       "    .dataframe thead th {\n",
       "        text-align: right;\n",
       "    }\n",
       "</style>\n",
       "<table border=\"1\" class=\"dataframe\">\n",
       "  <thead>\n",
       "    <tr style=\"text-align: right;\">\n",
       "      <th></th>\n",
       "      <th>RESTAURANT_NAME</th>\n",
       "      <th>AV_DRINKS</th>\n",
       "      <th>N_W_MAIN</th>\n",
       "    </tr>\n",
       "  </thead>\n",
       "  <tbody>\n",
       "    <tr>\n",
       "      <th>0</th>\n",
       "      <td>Bryant Park</td>\n",
       "      <td>0.098138</td>\n",
       "      <td>216767</td>\n",
       "    </tr>\n",
       "    <tr>\n",
       "      <th>1</th>\n",
       "      <td>Columbia</td>\n",
       "      <td>0.066572</td>\n",
       "      <td>239406</td>\n",
       "    </tr>\n",
       "    <tr>\n",
       "      <th>2</th>\n",
       "      <td>Flatiron</td>\n",
       "      <td>0.097637</td>\n",
       "      <td>268909</td>\n",
       "    </tr>\n",
       "    <tr>\n",
       "      <th>3</th>\n",
       "      <td>Midtown</td>\n",
       "      <td>0.126128</td>\n",
       "      <td>309502</td>\n",
       "    </tr>\n",
       "    <tr>\n",
       "      <th>4</th>\n",
       "      <td>NYU</td>\n",
       "      <td>0.075769</td>\n",
       "      <td>411253</td>\n",
       "    </tr>\n",
       "    <tr>\n",
       "      <th>5</th>\n",
       "      <td>Upper East Side</td>\n",
       "      <td>0.118145</td>\n",
       "      <td>261957</td>\n",
       "    </tr>\n",
       "    <tr>\n",
       "      <th>6</th>\n",
       "      <td>Upper West Side</td>\n",
       "      <td>0.097032</td>\n",
       "      <td>268023</td>\n",
       "    </tr>\n",
       "    <tr>\n",
       "      <th>7</th>\n",
       "      <td>Williamsburg</td>\n",
       "      <td>0.096446</td>\n",
       "      <td>299822</td>\n",
       "    </tr>\n",
       "  </tbody>\n",
       "</table>\n",
       "</div>"
      ],
      "text/plain": [
       "   RESTAURANT_NAME  AV_DRINKS  N_W_MAIN\n",
       "0      Bryant Park   0.098138    216767\n",
       "1         Columbia   0.066572    239406\n",
       "2         Flatiron   0.097637    268909\n",
       "3          Midtown   0.126128    309502\n",
       "4              NYU   0.075769    411253\n",
       "5  Upper East Side   0.118145    261957\n",
       "6  Upper West Side   0.097032    268023\n",
       "7     Williamsburg   0.096446    299822"
      ]
     },
     "execution_count": 19,
     "metadata": {},
     "output_type": "execute_result"
    }
   ],
   "source": [
    "# Optional code - multiple aggregations with a join\n",
    "# =================================================\n",
    "\n",
    "# Find the average number of drinks by restaurant\n",
    "df_av_drinks = ( df_orders.groupby('RESTAURANT_NAME')\n",
    "                              .DRINKS.mean().reset_index() )\n",
    "\n",
    "# Find the number of orders with a bowl by restaurant\n",
    "df_num_w_bowls = ( df_orders.groupby('RESTAURANT_NAME')\n",
    "                              .MAIN.count().reset_index() )\n",
    "\n",
    "# Join the two to produce a combined DataFrame\n",
    "pd.merge( df_av_drinks.rename(columns={'DRINKS':'AV_DRINKS'}),\n",
    "          df_num_w_bowls.rename(columns={'MAIN':'N_W_MAIN'}),\n",
    "          left_on='RESTAURANT_NAME',\n",
    "          right_on='RESTAURANT_NAME',\n",
    "          how='outer',\n",
    "          validate='one_to_one')"
   ]
  },
  {
   "cell_type": "code",
   "execution_count": 20,
   "metadata": {},
   "outputs": [
    {
     "data": {
      "text/html": [
       "<div>\n",
       "<style scoped>\n",
       "    .dataframe tbody tr th:only-of-type {\n",
       "        vertical-align: middle;\n",
       "    }\n",
       "\n",
       "    .dataframe tbody tr th {\n",
       "        vertical-align: top;\n",
       "    }\n",
       "\n",
       "    .dataframe thead th {\n",
       "        text-align: right;\n",
       "    }\n",
       "</style>\n",
       "<table border=\"1\" class=\"dataframe\">\n",
       "  <thead>\n",
       "    <tr style=\"text-align: right;\">\n",
       "      <th></th>\n",
       "      <th>AV_DRINKS</th>\n",
       "      <th>N_W_MAIN</th>\n",
       "    </tr>\n",
       "    <tr>\n",
       "      <th>RESTAURANT_NAME</th>\n",
       "      <th></th>\n",
       "      <th></th>\n",
       "    </tr>\n",
       "  </thead>\n",
       "  <tbody>\n",
       "    <tr>\n",
       "      <th>Bryant Park</th>\n",
       "      <td>0.098138</td>\n",
       "      <td>216767</td>\n",
       "    </tr>\n",
       "    <tr>\n",
       "      <th>Columbia</th>\n",
       "      <td>0.066572</td>\n",
       "      <td>239406</td>\n",
       "    </tr>\n",
       "    <tr>\n",
       "      <th>Flatiron</th>\n",
       "      <td>0.097637</td>\n",
       "      <td>268909</td>\n",
       "    </tr>\n",
       "    <tr>\n",
       "      <th>Midtown</th>\n",
       "      <td>0.126128</td>\n",
       "      <td>309502</td>\n",
       "    </tr>\n",
       "    <tr>\n",
       "      <th>NYU</th>\n",
       "      <td>0.075769</td>\n",
       "      <td>411253</td>\n",
       "    </tr>\n",
       "    <tr>\n",
       "      <th>Upper East Side</th>\n",
       "      <td>0.118145</td>\n",
       "      <td>261957</td>\n",
       "    </tr>\n",
       "    <tr>\n",
       "      <th>Upper West Side</th>\n",
       "      <td>0.097032</td>\n",
       "      <td>268023</td>\n",
       "    </tr>\n",
       "    <tr>\n",
       "      <th>Williamsburg</th>\n",
       "      <td>0.096446</td>\n",
       "      <td>299822</td>\n",
       "    </tr>\n",
       "  </tbody>\n",
       "</table>\n",
       "</div>"
      ],
      "text/plain": [
       "                 AV_DRINKS  N_W_MAIN\n",
       "RESTAURANT_NAME                     \n",
       "Bryant Park       0.098138    216767\n",
       "Columbia          0.066572    239406\n",
       "Flatiron          0.097637    268909\n",
       "Midtown           0.126128    309502\n",
       "NYU               0.075769    411253\n",
       "Upper East Side   0.118145    261957\n",
       "Upper West Side   0.097032    268023\n",
       "Williamsburg      0.096446    299822"
      ]
     },
     "execution_count": 20,
     "metadata": {},
     "output_type": "execute_result"
    }
   ],
   "source": [
    "( df_orders.groupby('RESTAURANT_NAME')\n",
    "           .agg(AV_DRINKS = ('DRINKS', 'mean'),\n",
    "                N_W_MAIN = ('MAIN', 'count')) )"
   ]
  },
  {
   "cell_type": "markdown",
   "metadata": {},
   "source": [
    "## Section 8.5"
   ]
  },
  {
   "cell_type": "markdown",
   "metadata": {},
   "source": [
    "### Section 8.5.1"
   ]
  },
  {
   "cell_type": "code",
   "execution_count": 21,
   "metadata": {},
   "outputs": [
    {
     "data": {
      "text/plain": [
       "HAS_DRINK\n",
       "False    0.259543\n",
       "True     0.258149\n",
       "Name: COOKIES, dtype: float64"
      ]
     },
     "execution_count": 21,
     "metadata": {},
     "output_type": "execute_result"
    }
   ],
   "source": [
    "df_orders['HAS_DRINK'] = (df_orders.DRINKS > 0)\n",
    "df_orders.groupby('HAS_DRINK').COOKIES.mean()"
   ]
  },
  {
   "cell_type": "code",
   "execution_count": 22,
   "metadata": {},
   "outputs": [
    {
     "data": {
      "text/plain": [
       "DRINKS\n",
       "False    0.259543\n",
       "True     0.258149\n",
       "Name: COOKIES, dtype: float64"
      ]
     },
     "execution_count": 22,
     "metadata": {},
     "output_type": "execute_result"
    }
   ],
   "source": [
    "df_orders.groupby(df_orders.DRINKS > 0).COOKIES.mean()"
   ]
  },
  {
   "cell_type": "markdown",
   "metadata": {},
   "source": [
    "### Section 8.5.2"
   ]
  },
  {
   "cell_type": "code",
   "execution_count": 23,
   "metadata": {},
   "outputs": [
    {
     "data": {
      "text/html": [
       "<div>\n",
       "<style scoped>\n",
       "    .dataframe tbody tr th:only-of-type {\n",
       "        vertical-align: middle;\n",
       "    }\n",
       "\n",
       "    .dataframe tbody tr th {\n",
       "        vertical-align: top;\n",
       "    }\n",
       "\n",
       "    .dataframe thead th {\n",
       "        text-align: right;\n",
       "    }\n",
       "</style>\n",
       "<table border=\"1\" class=\"dataframe\">\n",
       "  <thead>\n",
       "    <tr style=\"text-align: right;\">\n",
       "      <th></th>\n",
       "      <th>DATETIME</th>\n",
       "      <th>DRINKS</th>\n",
       "    </tr>\n",
       "  </thead>\n",
       "  <tbody>\n",
       "    <tr>\n",
       "      <th>0</th>\n",
       "      <td>2018-01-01</td>\n",
       "      <td>0.064363</td>\n",
       "    </tr>\n",
       "    <tr>\n",
       "      <th>1</th>\n",
       "      <td>2018-01-02</td>\n",
       "      <td>0.083897</td>\n",
       "    </tr>\n",
       "    <tr>\n",
       "      <th>2</th>\n",
       "      <td>2018-01-03</td>\n",
       "      <td>0.069347</td>\n",
       "    </tr>\n",
       "    <tr>\n",
       "      <th>3</th>\n",
       "      <td>2018-01-04</td>\n",
       "      <td>0.076179</td>\n",
       "    </tr>\n",
       "    <tr>\n",
       "      <th>4</th>\n",
       "      <td>2018-01-05</td>\n",
       "      <td>0.080892</td>\n",
       "    </tr>\n",
       "  </tbody>\n",
       "</table>\n",
       "</div>"
      ],
      "text/plain": [
       "    DATETIME    DRINKS\n",
       "0 2018-01-01  0.064363\n",
       "1 2018-01-02  0.083897\n",
       "2 2018-01-03  0.069347\n",
       "3 2018-01-04  0.076179\n",
       "4 2018-01-05  0.080892"
      ]
     },
     "execution_count": 23,
     "metadata": {},
     "output_type": "execute_result"
    }
   ],
   "source": [
    "( df_orders.set_index('DATETIME')\n",
    "           .resample('D')\n",
    "           .DRINKS\n",
    "           .mean()\n",
    "           .reset_index()\n",
    "           .head() )"
   ]
  },
  {
   "cell_type": "code",
   "execution_count": 24,
   "metadata": {},
   "outputs": [
    {
     "data": {
      "text/plain": [
       "<matplotlib.axes._subplots.AxesSubplot at 0x25ebff64cc0>"
      ]
     },
     "execution_count": 24,
     "metadata": {},
     "output_type": "execute_result"
    },
    {
     "data": {
      "image/png": "[encoded data removed]",
      "text/plain": [
       "<Figure size 432x288 with 1 Axes>"
      ]
     },
     "metadata": {
      "needs_background": "light"
     },
     "output_type": "display_data"
    }
   ],
   "source": [
    "( df_orders\n",
    "   [df_orders.RESTAURANT_NAME == 'Columbia'] \n",
    "   .set_index('DATETIME')\n",
    "   .resample('D')\n",
    "   .size()\n",
    "   .plot() )"
   ]
  },
  {
   "cell_type": "code",
   "execution_count": 25,
   "metadata": {},
   "outputs": [
    {
     "data": {
      "text/plain": [
       "<matplotlib.axes._subplots.AxesSubplot at 0x25e800e7eb8>"
      ]
     },
     "execution_count": 25,
     "metadata": {},
     "output_type": "execute_result"
    },
    {
     "data": {
      "image/png": "[encoded data removed]",
      "text/plain": [
       "<Figure size 432x288 with 1 Axes>"
      ]
     },
     "metadata": {
      "needs_background": "light"
     },
     "output_type": "display_data"
    }
   ],
   "source": [
    "( df_orders\n",
    "   .set_index('DATETIME')\n",
    "   .resample('D')\n",
    "   .size()\n",
    "   .plot() )"
   ]
  },
  {
   "cell_type": "code",
   "execution_count": 26,
   "metadata": {},
   "outputs": [
    {
     "data": {
      "text/plain": [
       "<matplotlib.axes._subplots.AxesSubplot at 0x25e801fe780>"
      ]
     },
     "execution_count": 26,
     "metadata": {},
     "output_type": "execute_result"
    },
    {
     "data": {
      "image/png": "[encoded data removed]",
      "text/plain": [
       "<Figure size 432x288 with 1 Axes>"
      ]
     },
     "metadata": {
      "needs_background": "light"
     },
     "output_type": "display_data"
    }
   ],
   "source": [
    "( df_orders\n",
    "   .set_index('DATETIME')\n",
    "   .resample('W')\n",
    "   .size()\n",
    "   .plot() )"
   ]
  },
  {
   "cell_type": "code",
   "execution_count": 27,
   "metadata": {},
   "outputs": [
    {
     "data": {
      "text/plain": [
       "DATETIME\n",
       "2018-01-01    519\n",
       "2018-01-02    547\n",
       "2018-01-03    532\n",
       "2018-01-04    502\n",
       "2018-01-05    477\n",
       "Freq: D, dtype: int64"
      ]
     },
     "execution_count": 27,
     "metadata": {},
     "output_type": "execute_result"
    }
   ],
   "source": [
    "( df_orders\n",
    "   [df_orders.RESTAURANT_NAME == 'Columbia'] \n",
    "   .set_index('DATETIME')\n",
    "   .resample('D')\n",
    "   .size()\n",
    "   .head() )"
   ]
  },
  {
   "cell_type": "code",
   "execution_count": 28,
   "metadata": {},
   "outputs": [
    {
     "data": {
      "text/plain": [
       "DATETIME\n",
       "2018-01-01           NaN\n",
       "2018-01-02           NaN\n",
       "2018-01-03    532.666667\n",
       "2018-01-04    527.000000\n",
       "2018-01-05    503.666667\n",
       "Freq: D, dtype: float64"
      ]
     },
     "execution_count": 28,
     "metadata": {},
     "output_type": "execute_result"
    }
   ],
   "source": [
    "( df_orders\n",
    "   [df_orders.RESTAURANT_NAME == 'Columbia'] \n",
    "   .set_index('DATETIME')\n",
    "   .resample('D')\n",
    "   .size()\n",
    "   .rolling(3)\n",
    "   .mean()\n",
    "   .head() )"
   ]
  },
  {
   "cell_type": "code",
   "execution_count": 29,
   "metadata": {},
   "outputs": [
    {
     "data": {
      "text/plain": [
       "<matplotlib.axes._subplots.AxesSubplot at 0x25e8129ba90>"
      ]
     },
     "execution_count": 29,
     "metadata": {},
     "output_type": "execute_result"
    },
    {
     "data": {
      "image/png": "[encoded data removed]",
      "text/plain": [
       "<Figure size 432x288 with 1 Axes>"
      ]
     },
     "metadata": {
      "needs_background": "light"
     },
     "output_type": "display_data"
    }
   ],
   "source": [
    "( df_orders\n",
    "   .set_index('DATETIME')\n",
    "   .resample('D')\n",
    "   .size()\n",
    "   .rolling(14)\n",
    "   .mean()\n",
    "   .plot() )"
   ]
  },
  {
   "cell_type": "code",
   "execution_count": 30,
   "metadata": {},
   "outputs": [
    {
     "data": {
      "text/html": [
       "<div>\n",
       "<style scoped>\n",
       "    .dataframe tbody tr th:only-of-type {\n",
       "        vertical-align: middle;\n",
       "    }\n",
       "\n",
       "    .dataframe tbody tr th {\n",
       "        vertical-align: top;\n",
       "    }\n",
       "\n",
       "    .dataframe thead th {\n",
       "        text-align: right;\n",
       "    }\n",
       "</style>\n",
       "<table border=\"1\" class=\"dataframe\">\n",
       "  <thead>\n",
       "    <tr style=\"text-align: right;\">\n",
       "      <th></th>\n",
       "      <th>RESTAURANT_NAME</th>\n",
       "      <th>DATETIME</th>\n",
       "      <th>0</th>\n",
       "    </tr>\n",
       "  </thead>\n",
       "  <tbody>\n",
       "    <tr>\n",
       "      <th>0</th>\n",
       "      <td>Bryant Park</td>\n",
       "      <td>2018-01-01</td>\n",
       "      <td>373</td>\n",
       "    </tr>\n",
       "    <tr>\n",
       "      <th>1</th>\n",
       "      <td>Bryant Park</td>\n",
       "      <td>2018-01-02</td>\n",
       "      <td>789</td>\n",
       "    </tr>\n",
       "    <tr>\n",
       "      <th>2</th>\n",
       "      <td>Bryant Park</td>\n",
       "      <td>2018-01-03</td>\n",
       "      <td>818</td>\n",
       "    </tr>\n",
       "    <tr>\n",
       "      <th>3</th>\n",
       "      <td>Bryant Park</td>\n",
       "      <td>2018-01-04</td>\n",
       "      <td>782</td>\n",
       "    </tr>\n",
       "    <tr>\n",
       "      <th>4</th>\n",
       "      <td>Bryant Park</td>\n",
       "      <td>2018-01-05</td>\n",
       "      <td>719</td>\n",
       "    </tr>\n",
       "  </tbody>\n",
       "</table>\n",
       "</div>"
      ],
      "text/plain": [
       "  RESTAURANT_NAME   DATETIME    0\n",
       "0     Bryant Park 2018-01-01  373\n",
       "1     Bryant Park 2018-01-02  789\n",
       "2     Bryant Park 2018-01-03  818\n",
       "3     Bryant Park 2018-01-04  782\n",
       "4     Bryant Park 2018-01-05  719"
      ]
     },
     "execution_count": 30,
     "metadata": {},
     "output_type": "execute_result"
    }
   ],
   "source": [
    "( df_orders.set_index(df_orders.DATETIME)\n",
    "           .groupby('RESTAURANT_NAME')\n",
    "           .resample('D')\n",
    "           .size()\n",
    "           .reset_index()\n",
    "           .head() )"
   ]
  },
  {
   "cell_type": "code",
   "execution_count": 31,
   "metadata": {},
   "outputs": [
    {
     "data": {
      "text/html": [
       "<div>\n",
       "<style scoped>\n",
       "    .dataframe tbody tr th:only-of-type {\n",
       "        vertical-align: middle;\n",
       "    }\n",
       "\n",
       "    .dataframe tbody tr th {\n",
       "        vertical-align: top;\n",
       "    }\n",
       "\n",
       "    .dataframe thead th {\n",
       "        text-align: right;\n",
       "    }\n",
       "</style>\n",
       "<table border=\"1\" class=\"dataframe\">\n",
       "  <thead>\n",
       "    <tr style=\"text-align: right;\">\n",
       "      <th></th>\n",
       "      <th>RESTAURANT_NAME</th>\n",
       "      <th>DATETIME</th>\n",
       "      <th>DRINKS</th>\n",
       "    </tr>\n",
       "  </thead>\n",
       "  <tbody>\n",
       "    <tr>\n",
       "      <th>0</th>\n",
       "      <td>Bryant Park</td>\n",
       "      <td>2018-01-31</td>\n",
       "      <td>1414.0</td>\n",
       "    </tr>\n",
       "    <tr>\n",
       "      <th>1</th>\n",
       "      <td>Bryant Park</td>\n",
       "      <td>2018-02-28</td>\n",
       "      <td>1336.0</td>\n",
       "    </tr>\n",
       "    <tr>\n",
       "      <th>2</th>\n",
       "      <td>Bryant Park</td>\n",
       "      <td>2018-03-31</td>\n",
       "      <td>1427.0</td>\n",
       "    </tr>\n",
       "    <tr>\n",
       "      <th>3</th>\n",
       "      <td>Bryant Park</td>\n",
       "      <td>2018-04-30</td>\n",
       "      <td>1478.0</td>\n",
       "    </tr>\n",
       "    <tr>\n",
       "      <th>4</th>\n",
       "      <td>Bryant Park</td>\n",
       "      <td>2018-05-31</td>\n",
       "      <td>2340.0</td>\n",
       "    </tr>\n",
       "  </tbody>\n",
       "</table>\n",
       "</div>"
      ],
      "text/plain": [
       "  RESTAURANT_NAME   DATETIME  DRINKS\n",
       "0     Bryant Park 2018-01-31  1414.0\n",
       "1     Bryant Park 2018-02-28  1336.0\n",
       "2     Bryant Park 2018-03-31  1427.0\n",
       "3     Bryant Park 2018-04-30  1478.0\n",
       "4     Bryant Park 2018-05-31  2340.0"
      ]
     },
     "execution_count": 31,
     "metadata": {},
     "output_type": "execute_result"
    }
   ],
   "source": [
    "( df_orders.set_index(df_orders.DATETIME)\n",
    "           .groupby('RESTAURANT_NAME')\n",
    "           .resample('M')\n",
    "           .DRINKS\n",
    "           .sum()\n",
    "           .reset_index()\n",
    "           .head() )"
   ]
  }
 ],
 "metadata": {
  "kernelspec": {
   "display_name": "Python 3",
   "language": "python",
   "name": "python3"
  },
  "language_info": {
   "codemirror_mode": {
    "name": "ipython",
    "version": 3
   },
   "file_extension": ".py",
   "mimetype": "text/x-python",
   "name": "python",
   "nbconvert_exporter": "python",
   "pygments_lexer": "ipython3",
   "version": "3.7.2"
  }
 },
 "nbformat": 4,
 "nbformat_minor": 2
}
