{
 "cells": [
  {
   "cell_type": "markdown",
   "metadata": {},
   "source": [
    "# Chapter 5"
   ]
  },
  {
   "cell_type": "markdown",
   "metadata": {},
   "source": [
    "## Section 5.5"
   ]
  },
  {
   "cell_type": "markdown",
   "metadata": {},
   "source": [
    "### Section 5.5.1"
   ]
  },
  {
   "cell_type": "code",
   "execution_count": 1,
   "metadata": {},
   "outputs": [],
   "source": [
    "import pandas as pd"
   ]
  },
  {
   "cell_type": "code",
   "execution_count": 2,
   "metadata": {},
   "outputs": [],
   "source": [
    "students = (\n",
    "    {'FIRST_NAME': ['Daniel', 'Ben', 'Kavita', 'Linda', \n",
    "                    'Omar','Jane', 'Felicia', 'Rachel', \n",
    "                    'Bob'],\n",
    "    'LAST_NAME': ['Smith', 'Leibstrom', 'Kanabar', 'Thiel',\n",
    "                  'Reichel', 'OConner', 'Rao', 'Crock', \n",
    "                  'McDonald'],\n",
    "    'YEAR': [1, 1, 1, 4, 2, 2, 3, 1, 1],\n",
    "    'HOME_STATE': ['NY', 'NY', 'PA', 'CA', 'OK', 'HI', \n",
    "                   'NY','FL', 'FL'],\n",
    "    'AGE': [18, 19, 19, 22, 21, 19, 20, 17, 18],\n",
    "    'CALC_101_FINAL': [90, 80, None, 60, 70, None,None, \n",
    "                       None, 98],\n",
    "    'ENGLISH_101_FINAL': [80, None, None, 40, 50, None,\n",
    "                          None, 60, 65]} )\n",
    "df_students = pd.DataFrame(students)"
   ]
  },
  {
   "cell_type": "code",
   "execution_count": 3,
   "metadata": {},
   "outputs": [
    {
     "data": {
      "text/html": [
       "<div>\n",
       "<style scoped>\n",
       "    .dataframe tbody tr th:only-of-type {\n",
       "        vertical-align: middle;\n",
       "    }\n",
       "\n",
       "    .dataframe tbody tr th {\n",
       "        vertical-align: top;\n",
       "    }\n",
       "\n",
       "    .dataframe thead th {\n",
       "        text-align: right;\n",
       "    }\n",
       "</style>\n",
       "<table border=\"1\" class=\"dataframe\">\n",
       "  <thead>\n",
       "    <tr style=\"text-align: right;\">\n",
       "      <th></th>\n",
       "      <th>FIRST_NAME</th>\n",
       "      <th>LAST_NAME</th>\n",
       "      <th>YEAR</th>\n",
       "      <th>HOME_STATE</th>\n",
       "      <th>AGE</th>\n",
       "      <th>CALC_101_FINAL</th>\n",
       "      <th>ENGLISH_101_FINAL</th>\n",
       "    </tr>\n",
       "  </thead>\n",
       "  <tbody>\n",
       "    <tr>\n",
       "      <th>0</th>\n",
       "      <td>Daniel</td>\n",
       "      <td>Smith</td>\n",
       "      <td>1</td>\n",
       "      <td>NY</td>\n",
       "      <td>18</td>\n",
       "      <td>90.0</td>\n",
       "      <td>80.0</td>\n",
       "    </tr>\n",
       "    <tr>\n",
       "      <th>1</th>\n",
       "      <td>Ben</td>\n",
       "      <td>Leibstrom</td>\n",
       "      <td>1</td>\n",
       "      <td>NY</td>\n",
       "      <td>19</td>\n",
       "      <td>80.0</td>\n",
       "      <td>NaN</td>\n",
       "    </tr>\n",
       "    <tr>\n",
       "      <th>2</th>\n",
       "      <td>Kavita</td>\n",
       "      <td>Kanabar</td>\n",
       "      <td>1</td>\n",
       "      <td>PA</td>\n",
       "      <td>19</td>\n",
       "      <td>NaN</td>\n",
       "      <td>NaN</td>\n",
       "    </tr>\n",
       "    <tr>\n",
       "      <th>3</th>\n",
       "      <td>Linda</td>\n",
       "      <td>Thiel</td>\n",
       "      <td>4</td>\n",
       "      <td>CA</td>\n",
       "      <td>22</td>\n",
       "      <td>60.0</td>\n",
       "      <td>40.0</td>\n",
       "    </tr>\n",
       "    <tr>\n",
       "      <th>4</th>\n",
       "      <td>Omar</td>\n",
       "      <td>Reichel</td>\n",
       "      <td>2</td>\n",
       "      <td>OK</td>\n",
       "      <td>21</td>\n",
       "      <td>70.0</td>\n",
       "      <td>50.0</td>\n",
       "    </tr>\n",
       "    <tr>\n",
       "      <th>5</th>\n",
       "      <td>Jane</td>\n",
       "      <td>OConner</td>\n",
       "      <td>2</td>\n",
       "      <td>HI</td>\n",
       "      <td>19</td>\n",
       "      <td>NaN</td>\n",
       "      <td>NaN</td>\n",
       "    </tr>\n",
       "    <tr>\n",
       "      <th>6</th>\n",
       "      <td>Felicia</td>\n",
       "      <td>Rao</td>\n",
       "      <td>3</td>\n",
       "      <td>NY</td>\n",
       "      <td>20</td>\n",
       "      <td>NaN</td>\n",
       "      <td>NaN</td>\n",
       "    </tr>\n",
       "    <tr>\n",
       "      <th>7</th>\n",
       "      <td>Rachel</td>\n",
       "      <td>Crock</td>\n",
       "      <td>1</td>\n",
       "      <td>FL</td>\n",
       "      <td>17</td>\n",
       "      <td>NaN</td>\n",
       "      <td>60.0</td>\n",
       "    </tr>\n",
       "    <tr>\n",
       "      <th>8</th>\n",
       "      <td>Bob</td>\n",
       "      <td>McDonald</td>\n",
       "      <td>1</td>\n",
       "      <td>FL</td>\n",
       "      <td>18</td>\n",
       "      <td>98.0</td>\n",
       "      <td>65.0</td>\n",
       "    </tr>\n",
       "  </tbody>\n",
       "</table>\n",
       "</div>"
      ],
      "text/plain": [
       "  FIRST_NAME  LAST_NAME  YEAR HOME_STATE  AGE  CALC_101_FINAL  \\\n",
       "0     Daniel      Smith     1         NY   18            90.0   \n",
       "1        Ben  Leibstrom     1         NY   19            80.0   \n",
       "2     Kavita    Kanabar     1         PA   19             NaN   \n",
       "3      Linda      Thiel     4         CA   22            60.0   \n",
       "4       Omar    Reichel     2         OK   21            70.0   \n",
       "5       Jane    OConner     2         HI   19             NaN   \n",
       "6    Felicia        Rao     3         NY   20             NaN   \n",
       "7     Rachel      Crock     1         FL   17             NaN   \n",
       "8        Bob   McDonald     1         FL   18            98.0   \n",
       "\n",
       "   ENGLISH_101_FINAL  \n",
       "0               80.0  \n",
       "1                NaN  \n",
       "2                NaN  \n",
       "3               40.0  \n",
       "4               50.0  \n",
       "5                NaN  \n",
       "6                NaN  \n",
       "7               60.0  \n",
       "8               65.0  "
      ]
     },
     "execution_count": 3,
     "metadata": {},
     "output_type": "execute_result"
    }
   ],
   "source": [
    "df_students"
   ]
  },
  {
   "cell_type": "markdown",
   "metadata": {},
   "source": [
    "### Section 5.5.2"
   ]
  },
  {
   "cell_type": "code",
   "execution_count": 4,
   "metadata": {},
   "outputs": [
    {
     "data": {
      "text/plain": [
       "0     Daniel\n",
       "1        Ben\n",
       "2     Kavita\n",
       "3      Linda\n",
       "4       Omar\n",
       "5       Jane\n",
       "6    Felicia\n",
       "7     Rachel\n",
       "8        Bob\n",
       "Name: FIRST_NAME, dtype: object"
      ]
     },
     "execution_count": 4,
     "metadata": {},
     "output_type": "execute_result"
    }
   ],
   "source": [
    "df_students['FIRST_NAME']"
   ]
  },
  {
   "cell_type": "code",
   "execution_count": 5,
   "metadata": {},
   "outputs": [
    {
     "data": {
      "text/plain": [
       "0     Daniel\n",
       "1        Ben\n",
       "2     Kavita\n",
       "3      Linda\n",
       "4       Omar\n",
       "5       Jane\n",
       "6    Felicia\n",
       "7     Rachel\n",
       "8        Bob\n",
       "Name: FIRST_NAME, dtype: object"
      ]
     },
     "execution_count": 5,
     "metadata": {},
     "output_type": "execute_result"
    }
   ],
   "source": [
    "df_students.FIRST_NAME"
   ]
  },
  {
   "cell_type": "code",
   "execution_count": 6,
   "metadata": {},
   "outputs": [
    {
     "data": {
      "text/plain": [
       "0    NY\n",
       "1    NY\n",
       "2    PA\n",
       "3    CA\n",
       "4    OK\n",
       "5    HI\n",
       "6    NY\n",
       "7    FL\n",
       "8    FL\n",
       "Name: HOME_STATE, dtype: object"
      ]
     },
     "execution_count": 6,
     "metadata": {},
     "output_type": "execute_result"
    }
   ],
   "source": [
    "i = 'HOME_STATE'\n",
    "df_students[i]"
   ]
  },
  {
   "cell_type": "code",
   "execution_count": 7,
   "metadata": {},
   "outputs": [
    {
     "data": {
      "text/html": [
       "<div>\n",
       "<style scoped>\n",
       "    .dataframe tbody tr th:only-of-type {\n",
       "        vertical-align: middle;\n",
       "    }\n",
       "\n",
       "    .dataframe tbody tr th {\n",
       "        vertical-align: top;\n",
       "    }\n",
       "\n",
       "    .dataframe thead th {\n",
       "        text-align: right;\n",
       "    }\n",
       "</style>\n",
       "<table border=\"1\" class=\"dataframe\">\n",
       "  <thead>\n",
       "    <tr style=\"text-align: right;\">\n",
       "      <th></th>\n",
       "      <th>FIRST_NAME</th>\n",
       "    </tr>\n",
       "  </thead>\n",
       "  <tbody>\n",
       "    <tr>\n",
       "      <th>0</th>\n",
       "      <td>Daniel</td>\n",
       "    </tr>\n",
       "    <tr>\n",
       "      <th>1</th>\n",
       "      <td>Ben</td>\n",
       "    </tr>\n",
       "    <tr>\n",
       "      <th>2</th>\n",
       "      <td>Kavita</td>\n",
       "    </tr>\n",
       "    <tr>\n",
       "      <th>3</th>\n",
       "      <td>Linda</td>\n",
       "    </tr>\n",
       "    <tr>\n",
       "      <th>4</th>\n",
       "      <td>Omar</td>\n",
       "    </tr>\n",
       "    <tr>\n",
       "      <th>5</th>\n",
       "      <td>Jane</td>\n",
       "    </tr>\n",
       "    <tr>\n",
       "      <th>6</th>\n",
       "      <td>Felicia</td>\n",
       "    </tr>\n",
       "    <tr>\n",
       "      <th>7</th>\n",
       "      <td>Rachel</td>\n",
       "    </tr>\n",
       "    <tr>\n",
       "      <th>8</th>\n",
       "      <td>Bob</td>\n",
       "    </tr>\n",
       "  </tbody>\n",
       "</table>\n",
       "</div>"
      ],
      "text/plain": [
       "  FIRST_NAME\n",
       "0     Daniel\n",
       "1        Ben\n",
       "2     Kavita\n",
       "3      Linda\n",
       "4       Omar\n",
       "5       Jane\n",
       "6    Felicia\n",
       "7     Rachel\n",
       "8        Bob"
      ]
     },
     "execution_count": 7,
     "metadata": {},
     "output_type": "execute_result"
    }
   ],
   "source": [
    "df_students[['FIRST_NAME']]"
   ]
  },
  {
   "cell_type": "code",
   "execution_count": 8,
   "metadata": {},
   "outputs": [
    {
     "data": {
      "text/html": [
       "<div>\n",
       "<style scoped>\n",
       "    .dataframe tbody tr th:only-of-type {\n",
       "        vertical-align: middle;\n",
       "    }\n",
       "\n",
       "    .dataframe tbody tr th {\n",
       "        vertical-align: top;\n",
       "    }\n",
       "\n",
       "    .dataframe thead th {\n",
       "        text-align: right;\n",
       "    }\n",
       "</style>\n",
       "<table border=\"1\" class=\"dataframe\">\n",
       "  <thead>\n",
       "    <tr style=\"text-align: right;\">\n",
       "      <th></th>\n",
       "      <th>FIRST_NAME</th>\n",
       "      <th>LAST_NAME</th>\n",
       "    </tr>\n",
       "  </thead>\n",
       "  <tbody>\n",
       "    <tr>\n",
       "      <th>0</th>\n",
       "      <td>Daniel</td>\n",
       "      <td>Smith</td>\n",
       "    </tr>\n",
       "    <tr>\n",
       "      <th>1</th>\n",
       "      <td>Ben</td>\n",
       "      <td>Leibstrom</td>\n",
       "    </tr>\n",
       "    <tr>\n",
       "      <th>2</th>\n",
       "      <td>Kavita</td>\n",
       "      <td>Kanabar</td>\n",
       "    </tr>\n",
       "    <tr>\n",
       "      <th>3</th>\n",
       "      <td>Linda</td>\n",
       "      <td>Thiel</td>\n",
       "    </tr>\n",
       "    <tr>\n",
       "      <th>4</th>\n",
       "      <td>Omar</td>\n",
       "      <td>Reichel</td>\n",
       "    </tr>\n",
       "    <tr>\n",
       "      <th>5</th>\n",
       "      <td>Jane</td>\n",
       "      <td>OConner</td>\n",
       "    </tr>\n",
       "    <tr>\n",
       "      <th>6</th>\n",
       "      <td>Felicia</td>\n",
       "      <td>Rao</td>\n",
       "    </tr>\n",
       "    <tr>\n",
       "      <th>7</th>\n",
       "      <td>Rachel</td>\n",
       "      <td>Crock</td>\n",
       "    </tr>\n",
       "    <tr>\n",
       "      <th>8</th>\n",
       "      <td>Bob</td>\n",
       "      <td>McDonald</td>\n",
       "    </tr>\n",
       "  </tbody>\n",
       "</table>\n",
       "</div>"
      ],
      "text/plain": [
       "  FIRST_NAME  LAST_NAME\n",
       "0     Daniel      Smith\n",
       "1        Ben  Leibstrom\n",
       "2     Kavita    Kanabar\n",
       "3      Linda      Thiel\n",
       "4       Omar    Reichel\n",
       "5       Jane    OConner\n",
       "6    Felicia        Rao\n",
       "7     Rachel      Crock\n",
       "8        Bob   McDonald"
      ]
     },
     "execution_count": 8,
     "metadata": {},
     "output_type": "execute_result"
    }
   ],
   "source": [
    "df_students[['FIRST_NAME', 'LAST_NAME']]"
   ]
  },
  {
   "cell_type": "code",
   "execution_count": 9,
   "metadata": {},
   "outputs": [
    {
     "ename": "KeyError",
     "evalue": "('FIRST_NAME', 'LAST_NAME')",
     "output_type": "error",
     "traceback": [
      "\u001b[1;31m---------------------------------------------------------------------------\u001b[0m",
      "\u001b[1;31mKeyError\u001b[0m                                  Traceback (most recent call last)",
      "\u001b[1;32m~\\AppData\\Local\\Continuum\\anaconda3\\lib\\site-packages\\pandas\\core\\indexes\\base.py\u001b[0m in \u001b[0;36mget_loc\u001b[1;34m(self, key, method, tolerance)\u001b[0m\n\u001b[0;32m   2896\u001b[0m             \u001b[1;32mtry\u001b[0m\u001b[1;33m:\u001b[0m\u001b[1;33m\u001b[0m\u001b[1;33m\u001b[0m\u001b[0m\n\u001b[1;32m-> 2897\u001b[1;33m                 \u001b[1;32mreturn\u001b[0m \u001b[0mself\u001b[0m\u001b[1;33m.\u001b[0m\u001b[0m_engine\u001b[0m\u001b[1;33m.\u001b[0m\u001b[0mget_loc\u001b[0m\u001b[1;33m(\u001b[0m\u001b[0mkey\u001b[0m\u001b[1;33m)\u001b[0m\u001b[1;33m\u001b[0m\u001b[1;33m\u001b[0m\u001b[0m\n\u001b[0m\u001b[0;32m   2898\u001b[0m             \u001b[1;32mexcept\u001b[0m \u001b[0mKeyError\u001b[0m\u001b[1;33m:\u001b[0m\u001b[1;33m\u001b[0m\u001b[1;33m\u001b[0m\u001b[0m\n",
      "\u001b[1;32mpandas/_libs/index.pyx\u001b[0m in \u001b[0;36mpandas._libs.index.IndexEngine.get_loc\u001b[1;34m()\u001b[0m\n",
      "\u001b[1;32mpandas/_libs/index.pyx\u001b[0m in \u001b[0;36mpandas._libs.index.IndexEngine.get_loc\u001b[1;34m()\u001b[0m\n",
      "\u001b[1;32mpandas/_libs/hashtable_class_helper.pxi\u001b[0m in \u001b[0;36mpandas._libs.hashtable.PyObjectHashTable.get_item\u001b[1;34m()\u001b[0m\n",
      "\u001b[1;32mpandas/_libs/hashtable_class_helper.pxi\u001b[0m in \u001b[0;36mpandas._libs.hashtable.PyObjectHashTable.get_item\u001b[1;34m()\u001b[0m\n",
      "\u001b[1;31mKeyError\u001b[0m: ('FIRST_NAME', 'LAST_NAME')",
      "\nDuring handling of the above exception, another exception occurred:\n",
      "\u001b[1;31mKeyError\u001b[0m                                  Traceback (most recent call last)",
      "\u001b[1;32m<ipython-input-9-908c8afca90a>\u001b[0m in \u001b[0;36m<module>\u001b[1;34m\u001b[0m\n\u001b[1;32m----> 1\u001b[1;33m \u001b[0mdf_students\u001b[0m\u001b[1;33m[\u001b[0m\u001b[1;34m'FIRST_NAME'\u001b[0m\u001b[1;33m,\u001b[0m \u001b[1;34m'LAST_NAME'\u001b[0m\u001b[1;33m]\u001b[0m\u001b[1;33m\u001b[0m\u001b[1;33m\u001b[0m\u001b[0m\n\u001b[0m",
      "\u001b[1;32m~\\AppData\\Local\\Continuum\\anaconda3\\lib\\site-packages\\pandas\\core\\frame.py\u001b[0m in \u001b[0;36m__getitem__\u001b[1;34m(self, key)\u001b[0m\n\u001b[0;32m   2993\u001b[0m             \u001b[1;32mif\u001b[0m \u001b[0mself\u001b[0m\u001b[1;33m.\u001b[0m\u001b[0mcolumns\u001b[0m\u001b[1;33m.\u001b[0m\u001b[0mnlevels\u001b[0m \u001b[1;33m>\u001b[0m \u001b[1;36m1\u001b[0m\u001b[1;33m:\u001b[0m\u001b[1;33m\u001b[0m\u001b[1;33m\u001b[0m\u001b[0m\n\u001b[0;32m   2994\u001b[0m                 \u001b[1;32mreturn\u001b[0m \u001b[0mself\u001b[0m\u001b[1;33m.\u001b[0m\u001b[0m_getitem_multilevel\u001b[0m\u001b[1;33m(\u001b[0m\u001b[0mkey\u001b[0m\u001b[1;33m)\u001b[0m\u001b[1;33m\u001b[0m\u001b[1;33m\u001b[0m\u001b[0m\n\u001b[1;32m-> 2995\u001b[1;33m             \u001b[0mindexer\u001b[0m \u001b[1;33m=\u001b[0m \u001b[0mself\u001b[0m\u001b[1;33m.\u001b[0m\u001b[0mcolumns\u001b[0m\u001b[1;33m.\u001b[0m\u001b[0mget_loc\u001b[0m\u001b[1;33m(\u001b[0m\u001b[0mkey\u001b[0m\u001b[1;33m)\u001b[0m\u001b[1;33m\u001b[0m\u001b[1;33m\u001b[0m\u001b[0m\n\u001b[0m\u001b[0;32m   2996\u001b[0m             \u001b[1;32mif\u001b[0m \u001b[0mis_integer\u001b[0m\u001b[1;33m(\u001b[0m\u001b[0mindexer\u001b[0m\u001b[1;33m)\u001b[0m\u001b[1;33m:\u001b[0m\u001b[1;33m\u001b[0m\u001b[1;33m\u001b[0m\u001b[0m\n\u001b[0;32m   2997\u001b[0m                 \u001b[0mindexer\u001b[0m \u001b[1;33m=\u001b[0m \u001b[1;33m[\u001b[0m\u001b[0mindexer\u001b[0m\u001b[1;33m]\u001b[0m\u001b[1;33m\u001b[0m\u001b[1;33m\u001b[0m\u001b[0m\n",
      "\u001b[1;32m~\\AppData\\Local\\Continuum\\anaconda3\\lib\\site-packages\\pandas\\core\\indexes\\base.py\u001b[0m in \u001b[0;36mget_loc\u001b[1;34m(self, key, method, tolerance)\u001b[0m\n\u001b[0;32m   2897\u001b[0m                 \u001b[1;32mreturn\u001b[0m \u001b[0mself\u001b[0m\u001b[1;33m.\u001b[0m\u001b[0m_engine\u001b[0m\u001b[1;33m.\u001b[0m\u001b[0mget_loc\u001b[0m\u001b[1;33m(\u001b[0m\u001b[0mkey\u001b[0m\u001b[1;33m)\u001b[0m\u001b[1;33m\u001b[0m\u001b[1;33m\u001b[0m\u001b[0m\n\u001b[0;32m   2898\u001b[0m             \u001b[1;32mexcept\u001b[0m \u001b[0mKeyError\u001b[0m\u001b[1;33m:\u001b[0m\u001b[1;33m\u001b[0m\u001b[1;33m\u001b[0m\u001b[0m\n\u001b[1;32m-> 2899\u001b[1;33m                 \u001b[1;32mreturn\u001b[0m \u001b[0mself\u001b[0m\u001b[1;33m.\u001b[0m\u001b[0m_engine\u001b[0m\u001b[1;33m.\u001b[0m\u001b[0mget_loc\u001b[0m\u001b[1;33m(\u001b[0m\u001b[0mself\u001b[0m\u001b[1;33m.\u001b[0m\u001b[0m_maybe_cast_indexer\u001b[0m\u001b[1;33m(\u001b[0m\u001b[0mkey\u001b[0m\u001b[1;33m)\u001b[0m\u001b[1;33m)\u001b[0m\u001b[1;33m\u001b[0m\u001b[1;33m\u001b[0m\u001b[0m\n\u001b[0m\u001b[0;32m   2900\u001b[0m         \u001b[0mindexer\u001b[0m \u001b[1;33m=\u001b[0m \u001b[0mself\u001b[0m\u001b[1;33m.\u001b[0m\u001b[0mget_indexer\u001b[0m\u001b[1;33m(\u001b[0m\u001b[1;33m[\u001b[0m\u001b[0mkey\u001b[0m\u001b[1;33m]\u001b[0m\u001b[1;33m,\u001b[0m \u001b[0mmethod\u001b[0m\u001b[1;33m=\u001b[0m\u001b[0mmethod\u001b[0m\u001b[1;33m,\u001b[0m \u001b[0mtolerance\u001b[0m\u001b[1;33m=\u001b[0m\u001b[0mtolerance\u001b[0m\u001b[1;33m)\u001b[0m\u001b[1;33m\u001b[0m\u001b[1;33m\u001b[0m\u001b[0m\n\u001b[0;32m   2901\u001b[0m         \u001b[1;32mif\u001b[0m \u001b[0mindexer\u001b[0m\u001b[1;33m.\u001b[0m\u001b[0mndim\u001b[0m \u001b[1;33m>\u001b[0m \u001b[1;36m1\u001b[0m \u001b[1;32mor\u001b[0m \u001b[0mindexer\u001b[0m\u001b[1;33m.\u001b[0m\u001b[0msize\u001b[0m \u001b[1;33m>\u001b[0m \u001b[1;36m1\u001b[0m\u001b[1;33m:\u001b[0m\u001b[1;33m\u001b[0m\u001b[1;33m\u001b[0m\u001b[0m\n",
      "\u001b[1;32mpandas/_libs/index.pyx\u001b[0m in \u001b[0;36mpandas._libs.index.IndexEngine.get_loc\u001b[1;34m()\u001b[0m\n",
      "\u001b[1;32mpandas/_libs/index.pyx\u001b[0m in \u001b[0;36mpandas._libs.index.IndexEngine.get_loc\u001b[1;34m()\u001b[0m\n",
      "\u001b[1;32mpandas/_libs/hashtable_class_helper.pxi\u001b[0m in \u001b[0;36mpandas._libs.hashtable.PyObjectHashTable.get_item\u001b[1;34m()\u001b[0m\n",
      "\u001b[1;32mpandas/_libs/hashtable_class_helper.pxi\u001b[0m in \u001b[0;36mpandas._libs.hashtable.PyObjectHashTable.get_item\u001b[1;34m()\u001b[0m\n",
      "\u001b[1;31mKeyError\u001b[0m: ('FIRST_NAME', 'LAST_NAME')"
     ]
    }
   ],
   "source": [
    "df_students['FIRST_NAME', 'LAST_NAME']"
   ]
  },
  {
   "cell_type": "markdown",
   "metadata": {},
   "source": [
    "### Section 5.5.3"
   ]
  },
  {
   "cell_type": "code",
   "execution_count": 10,
   "metadata": {},
   "outputs": [],
   "source": [
    "df_students.columns = ['FIRST_NAME', 'LAST_NAME', 'YEAR',\n",
    "                         'HOME_STATE', 'AGE', 'CALC_101_FINAL',\n",
    "                         'ENGLISH_101_FINAL_SCORE']"
   ]
  },
  {
   "cell_type": "code",
   "execution_count": 11,
   "metadata": {},
   "outputs": [
    {
     "data": {
      "text/html": [
       "<div>\n",
       "<style scoped>\n",
       "    .dataframe tbody tr th:only-of-type {\n",
       "        vertical-align: middle;\n",
       "    }\n",
       "\n",
       "    .dataframe tbody tr th {\n",
       "        vertical-align: top;\n",
       "    }\n",
       "\n",
       "    .dataframe thead th {\n",
       "        text-align: right;\n",
       "    }\n",
       "</style>\n",
       "<table border=\"1\" class=\"dataframe\">\n",
       "  <thead>\n",
       "    <tr style=\"text-align: right;\">\n",
       "      <th></th>\n",
       "      <th>FIRST_NAME</th>\n",
       "      <th>LAST_NAME</th>\n",
       "      <th>YEAR</th>\n",
       "      <th>HOME_STATE</th>\n",
       "      <th>AGE</th>\n",
       "      <th>CALC_101_FINAL</th>\n",
       "      <th>ENGLISH_101_FINAL_SCORE</th>\n",
       "    </tr>\n",
       "  </thead>\n",
       "  <tbody>\n",
       "    <tr>\n",
       "      <th>0</th>\n",
       "      <td>Daniel</td>\n",
       "      <td>Smith</td>\n",
       "      <td>1</td>\n",
       "      <td>NY</td>\n",
       "      <td>18</td>\n",
       "      <td>90.0</td>\n",
       "      <td>80.0</td>\n",
       "    </tr>\n",
       "    <tr>\n",
       "      <th>1</th>\n",
       "      <td>Ben</td>\n",
       "      <td>Leibstrom</td>\n",
       "      <td>1</td>\n",
       "      <td>NY</td>\n",
       "      <td>19</td>\n",
       "      <td>80.0</td>\n",
       "      <td>NaN</td>\n",
       "    </tr>\n",
       "    <tr>\n",
       "      <th>2</th>\n",
       "      <td>Kavita</td>\n",
       "      <td>Kanabar</td>\n",
       "      <td>1</td>\n",
       "      <td>PA</td>\n",
       "      <td>19</td>\n",
       "      <td>NaN</td>\n",
       "      <td>NaN</td>\n",
       "    </tr>\n",
       "    <tr>\n",
       "      <th>3</th>\n",
       "      <td>Linda</td>\n",
       "      <td>Thiel</td>\n",
       "      <td>4</td>\n",
       "      <td>CA</td>\n",
       "      <td>22</td>\n",
       "      <td>60.0</td>\n",
       "      <td>40.0</td>\n",
       "    </tr>\n",
       "    <tr>\n",
       "      <th>4</th>\n",
       "      <td>Omar</td>\n",
       "      <td>Reichel</td>\n",
       "      <td>2</td>\n",
       "      <td>OK</td>\n",
       "      <td>21</td>\n",
       "      <td>70.0</td>\n",
       "      <td>50.0</td>\n",
       "    </tr>\n",
       "    <tr>\n",
       "      <th>5</th>\n",
       "      <td>Jane</td>\n",
       "      <td>OConner</td>\n",
       "      <td>2</td>\n",
       "      <td>HI</td>\n",
       "      <td>19</td>\n",
       "      <td>NaN</td>\n",
       "      <td>NaN</td>\n",
       "    </tr>\n",
       "    <tr>\n",
       "      <th>6</th>\n",
       "      <td>Felicia</td>\n",
       "      <td>Rao</td>\n",
       "      <td>3</td>\n",
       "      <td>NY</td>\n",
       "      <td>20</td>\n",
       "      <td>NaN</td>\n",
       "      <td>NaN</td>\n",
       "    </tr>\n",
       "    <tr>\n",
       "      <th>7</th>\n",
       "      <td>Rachel</td>\n",
       "      <td>Crock</td>\n",
       "      <td>1</td>\n",
       "      <td>FL</td>\n",
       "      <td>17</td>\n",
       "      <td>NaN</td>\n",
       "      <td>60.0</td>\n",
       "    </tr>\n",
       "    <tr>\n",
       "      <th>8</th>\n",
       "      <td>Bob</td>\n",
       "      <td>McDonald</td>\n",
       "      <td>1</td>\n",
       "      <td>FL</td>\n",
       "      <td>18</td>\n",
       "      <td>98.0</td>\n",
       "      <td>65.0</td>\n",
       "    </tr>\n",
       "  </tbody>\n",
       "</table>\n",
       "</div>"
      ],
      "text/plain": [
       "  FIRST_NAME  LAST_NAME  YEAR HOME_STATE  AGE  CALC_101_FINAL  \\\n",
       "0     Daniel      Smith     1         NY   18            90.0   \n",
       "1        Ben  Leibstrom     1         NY   19            80.0   \n",
       "2     Kavita    Kanabar     1         PA   19             NaN   \n",
       "3      Linda      Thiel     4         CA   22            60.0   \n",
       "4       Omar    Reichel     2         OK   21            70.0   \n",
       "5       Jane    OConner     2         HI   19             NaN   \n",
       "6    Felicia        Rao     3         NY   20             NaN   \n",
       "7     Rachel      Crock     1         FL   17             NaN   \n",
       "8        Bob   McDonald     1         FL   18            98.0   \n",
       "\n",
       "   ENGLISH_101_FINAL_SCORE  \n",
       "0                     80.0  \n",
       "1                      NaN  \n",
       "2                      NaN  \n",
       "3                     40.0  \n",
       "4                     50.0  \n",
       "5                      NaN  \n",
       "6                      NaN  \n",
       "7                     60.0  \n",
       "8                     65.0  "
      ]
     },
     "execution_count": 11,
     "metadata": {},
     "output_type": "execute_result"
    }
   ],
   "source": [
    "df_students"
   ]
  },
  {
   "cell_type": "code",
   "execution_count": 12,
   "metadata": {},
   "outputs": [],
   "source": [
    "df_students.index = [1,2,3,4,5,6,7,8,9]"
   ]
  },
  {
   "cell_type": "code",
   "execution_count": 13,
   "metadata": {},
   "outputs": [
    {
     "data": {
      "text/html": [
       "<div>\n",
       "<style scoped>\n",
       "    .dataframe tbody tr th:only-of-type {\n",
       "        vertical-align: middle;\n",
       "    }\n",
       "\n",
       "    .dataframe tbody tr th {\n",
       "        vertical-align: top;\n",
       "    }\n",
       "\n",
       "    .dataframe thead th {\n",
       "        text-align: right;\n",
       "    }\n",
       "</style>\n",
       "<table border=\"1\" class=\"dataframe\">\n",
       "  <thead>\n",
       "    <tr style=\"text-align: right;\">\n",
       "      <th></th>\n",
       "      <th>FIRST_NAME</th>\n",
       "      <th>LAST_NAME</th>\n",
       "      <th>YEAR</th>\n",
       "      <th>HOME_STATE</th>\n",
       "      <th>AGE</th>\n",
       "      <th>CALC_101_FINAL</th>\n",
       "      <th>ENGLISH_101_FINAL_SCORE</th>\n",
       "    </tr>\n",
       "  </thead>\n",
       "  <tbody>\n",
       "    <tr>\n",
       "      <th>1</th>\n",
       "      <td>Daniel</td>\n",
       "      <td>Smith</td>\n",
       "      <td>1</td>\n",
       "      <td>NY</td>\n",
       "      <td>18</td>\n",
       "      <td>90.0</td>\n",
       "      <td>80.0</td>\n",
       "    </tr>\n",
       "    <tr>\n",
       "      <th>2</th>\n",
       "      <td>Ben</td>\n",
       "      <td>Leibstrom</td>\n",
       "      <td>1</td>\n",
       "      <td>NY</td>\n",
       "      <td>19</td>\n",
       "      <td>80.0</td>\n",
       "      <td>NaN</td>\n",
       "    </tr>\n",
       "    <tr>\n",
       "      <th>3</th>\n",
       "      <td>Kavita</td>\n",
       "      <td>Kanabar</td>\n",
       "      <td>1</td>\n",
       "      <td>PA</td>\n",
       "      <td>19</td>\n",
       "      <td>NaN</td>\n",
       "      <td>NaN</td>\n",
       "    </tr>\n",
       "    <tr>\n",
       "      <th>4</th>\n",
       "      <td>Linda</td>\n",
       "      <td>Thiel</td>\n",
       "      <td>4</td>\n",
       "      <td>CA</td>\n",
       "      <td>22</td>\n",
       "      <td>60.0</td>\n",
       "      <td>40.0</td>\n",
       "    </tr>\n",
       "    <tr>\n",
       "      <th>5</th>\n",
       "      <td>Omar</td>\n",
       "      <td>Reichel</td>\n",
       "      <td>2</td>\n",
       "      <td>OK</td>\n",
       "      <td>21</td>\n",
       "      <td>70.0</td>\n",
       "      <td>50.0</td>\n",
       "    </tr>\n",
       "    <tr>\n",
       "      <th>6</th>\n",
       "      <td>Jane</td>\n",
       "      <td>OConner</td>\n",
       "      <td>2</td>\n",
       "      <td>HI</td>\n",
       "      <td>19</td>\n",
       "      <td>NaN</td>\n",
       "      <td>NaN</td>\n",
       "    </tr>\n",
       "    <tr>\n",
       "      <th>7</th>\n",
       "      <td>Felicia</td>\n",
       "      <td>Rao</td>\n",
       "      <td>3</td>\n",
       "      <td>NY</td>\n",
       "      <td>20</td>\n",
       "      <td>NaN</td>\n",
       "      <td>NaN</td>\n",
       "    </tr>\n",
       "    <tr>\n",
       "      <th>8</th>\n",
       "      <td>Rachel</td>\n",
       "      <td>Crock</td>\n",
       "      <td>1</td>\n",
       "      <td>FL</td>\n",
       "      <td>17</td>\n",
       "      <td>NaN</td>\n",
       "      <td>60.0</td>\n",
       "    </tr>\n",
       "    <tr>\n",
       "      <th>9</th>\n",
       "      <td>Bob</td>\n",
       "      <td>McDonald</td>\n",
       "      <td>1</td>\n",
       "      <td>FL</td>\n",
       "      <td>18</td>\n",
       "      <td>98.0</td>\n",
       "      <td>65.0</td>\n",
       "    </tr>\n",
       "  </tbody>\n",
       "</table>\n",
       "</div>"
      ],
      "text/plain": [
       "  FIRST_NAME  LAST_NAME  YEAR HOME_STATE  AGE  CALC_101_FINAL  \\\n",
       "1     Daniel      Smith     1         NY   18            90.0   \n",
       "2        Ben  Leibstrom     1         NY   19            80.0   \n",
       "3     Kavita    Kanabar     1         PA   19             NaN   \n",
       "4      Linda      Thiel     4         CA   22            60.0   \n",
       "5       Omar    Reichel     2         OK   21            70.0   \n",
       "6       Jane    OConner     2         HI   19             NaN   \n",
       "7    Felicia        Rao     3         NY   20             NaN   \n",
       "8     Rachel      Crock     1         FL   17             NaN   \n",
       "9        Bob   McDonald     1         FL   18            98.0   \n",
       "\n",
       "   ENGLISH_101_FINAL_SCORE  \n",
       "1                     80.0  \n",
       "2                      NaN  \n",
       "3                      NaN  \n",
       "4                     40.0  \n",
       "5                     50.0  \n",
       "6                      NaN  \n",
       "7                      NaN  \n",
       "8                     60.0  \n",
       "9                     65.0  "
      ]
     },
     "execution_count": 13,
     "metadata": {},
     "output_type": "execute_result"
    }
   ],
   "source": [
    "df_students"
   ]
  },
  {
   "cell_type": "code",
   "execution_count": 14,
   "metadata": {},
   "outputs": [
    {
     "data": {
      "text/html": [
       "<div>\n",
       "<style scoped>\n",
       "    .dataframe tbody tr th:only-of-type {\n",
       "        vertical-align: middle;\n",
       "    }\n",
       "\n",
       "    .dataframe tbody tr th {\n",
       "        vertical-align: top;\n",
       "    }\n",
       "\n",
       "    .dataframe thead th {\n",
       "        text-align: right;\n",
       "    }\n",
       "</style>\n",
       "<table border=\"1\" class=\"dataframe\">\n",
       "  <thead>\n",
       "    <tr style=\"text-align: right;\">\n",
       "      <th></th>\n",
       "      <th>FIRST_NAME</th>\n",
       "      <th>LAST_NAME</th>\n",
       "      <th>YEAR</th>\n",
       "      <th>HOME_STATE</th>\n",
       "      <th>AGE</th>\n",
       "      <th>CALC_101_FINAL</th>\n",
       "      <th>ENGLISH_101_FINAL</th>\n",
       "    </tr>\n",
       "  </thead>\n",
       "  <tbody>\n",
       "    <tr>\n",
       "      <th>1</th>\n",
       "      <td>Daniel</td>\n",
       "      <td>Smith</td>\n",
       "      <td>1</td>\n",
       "      <td>NY</td>\n",
       "      <td>18</td>\n",
       "      <td>90.0</td>\n",
       "      <td>80.0</td>\n",
       "    </tr>\n",
       "    <tr>\n",
       "      <th>2</th>\n",
       "      <td>Ben</td>\n",
       "      <td>Leibstrom</td>\n",
       "      <td>1</td>\n",
       "      <td>NY</td>\n",
       "      <td>19</td>\n",
       "      <td>80.0</td>\n",
       "      <td>NaN</td>\n",
       "    </tr>\n",
       "    <tr>\n",
       "      <th>3</th>\n",
       "      <td>Kavita</td>\n",
       "      <td>Kanabar</td>\n",
       "      <td>1</td>\n",
       "      <td>PA</td>\n",
       "      <td>19</td>\n",
       "      <td>NaN</td>\n",
       "      <td>NaN</td>\n",
       "    </tr>\n",
       "    <tr>\n",
       "      <th>4</th>\n",
       "      <td>Linda</td>\n",
       "      <td>Thiel</td>\n",
       "      <td>4</td>\n",
       "      <td>CA</td>\n",
       "      <td>22</td>\n",
       "      <td>60.0</td>\n",
       "      <td>40.0</td>\n",
       "    </tr>\n",
       "    <tr>\n",
       "      <th>5</th>\n",
       "      <td>Omar</td>\n",
       "      <td>Reichel</td>\n",
       "      <td>2</td>\n",
       "      <td>OK</td>\n",
       "      <td>21</td>\n",
       "      <td>70.0</td>\n",
       "      <td>50.0</td>\n",
       "    </tr>\n",
       "    <tr>\n",
       "      <th>6</th>\n",
       "      <td>Jane</td>\n",
       "      <td>OConner</td>\n",
       "      <td>2</td>\n",
       "      <td>HI</td>\n",
       "      <td>19</td>\n",
       "      <td>NaN</td>\n",
       "      <td>NaN</td>\n",
       "    </tr>\n",
       "    <tr>\n",
       "      <th>7</th>\n",
       "      <td>Felicia</td>\n",
       "      <td>Rao</td>\n",
       "      <td>3</td>\n",
       "      <td>NY</td>\n",
       "      <td>20</td>\n",
       "      <td>NaN</td>\n",
       "      <td>NaN</td>\n",
       "    </tr>\n",
       "    <tr>\n",
       "      <th>8</th>\n",
       "      <td>Rachel</td>\n",
       "      <td>Crock</td>\n",
       "      <td>1</td>\n",
       "      <td>FL</td>\n",
       "      <td>17</td>\n",
       "      <td>NaN</td>\n",
       "      <td>60.0</td>\n",
       "    </tr>\n",
       "    <tr>\n",
       "      <th>9</th>\n",
       "      <td>Bob</td>\n",
       "      <td>McDonald</td>\n",
       "      <td>1</td>\n",
       "      <td>FL</td>\n",
       "      <td>18</td>\n",
       "      <td>98.0</td>\n",
       "      <td>65.0</td>\n",
       "    </tr>\n",
       "  </tbody>\n",
       "</table>\n",
       "</div>"
      ],
      "text/plain": [
       "  FIRST_NAME  LAST_NAME  YEAR HOME_STATE  AGE  CALC_101_FINAL  \\\n",
       "1     Daniel      Smith     1         NY   18            90.0   \n",
       "2        Ben  Leibstrom     1         NY   19            80.0   \n",
       "3     Kavita    Kanabar     1         PA   19             NaN   \n",
       "4      Linda      Thiel     4         CA   22            60.0   \n",
       "5       Omar    Reichel     2         OK   21            70.0   \n",
       "6       Jane    OConner     2         HI   19             NaN   \n",
       "7    Felicia        Rao     3         NY   20             NaN   \n",
       "8     Rachel      Crock     1         FL   17             NaN   \n",
       "9        Bob   McDonald     1         FL   18            98.0   \n",
       "\n",
       "   ENGLISH_101_FINAL  \n",
       "1               80.0  \n",
       "2                NaN  \n",
       "3                NaN  \n",
       "4               40.0  \n",
       "5               50.0  \n",
       "6                NaN  \n",
       "7                NaN  \n",
       "8               60.0  \n",
       "9               65.0  "
      ]
     },
     "execution_count": 14,
     "metadata": {},
     "output_type": "execute_result"
    }
   ],
   "source": [
    "df_students.rename(columns={'ENGLISH_101_FINAL_SCORE'\n",
    "                              :'ENGLISH_101_FINAL'})"
   ]
  },
  {
   "cell_type": "code",
   "execution_count": 15,
   "metadata": {},
   "outputs": [
    {
     "data": {
      "text/html": [
       "<div>\n",
       "<style scoped>\n",
       "    .dataframe tbody tr th:only-of-type {\n",
       "        vertical-align: middle;\n",
       "    }\n",
       "\n",
       "    .dataframe tbody tr th {\n",
       "        vertical-align: top;\n",
       "    }\n",
       "\n",
       "    .dataframe thead th {\n",
       "        text-align: right;\n",
       "    }\n",
       "</style>\n",
       "<table border=\"1\" class=\"dataframe\">\n",
       "  <thead>\n",
       "    <tr style=\"text-align: right;\">\n",
       "      <th></th>\n",
       "      <th>FIRST_NAME</th>\n",
       "      <th>LAST_NAME</th>\n",
       "      <th>YEAR</th>\n",
       "      <th>HOME_STATE</th>\n",
       "      <th>AGE</th>\n",
       "      <th>CALC_101_FINAL</th>\n",
       "      <th>ENGLISH_101_FINAL_SCORE</th>\n",
       "    </tr>\n",
       "  </thead>\n",
       "  <tbody>\n",
       "    <tr>\n",
       "      <th>1</th>\n",
       "      <td>Daniel</td>\n",
       "      <td>Smith</td>\n",
       "      <td>1</td>\n",
       "      <td>NY</td>\n",
       "      <td>18</td>\n",
       "      <td>90.0</td>\n",
       "      <td>80.0</td>\n",
       "    </tr>\n",
       "    <tr>\n",
       "      <th>2</th>\n",
       "      <td>Ben</td>\n",
       "      <td>Leibstrom</td>\n",
       "      <td>1</td>\n",
       "      <td>NY</td>\n",
       "      <td>19</td>\n",
       "      <td>80.0</td>\n",
       "      <td>NaN</td>\n",
       "    </tr>\n",
       "    <tr>\n",
       "      <th>3</th>\n",
       "      <td>Kavita</td>\n",
       "      <td>Kanabar</td>\n",
       "      <td>1</td>\n",
       "      <td>PA</td>\n",
       "      <td>19</td>\n",
       "      <td>NaN</td>\n",
       "      <td>NaN</td>\n",
       "    </tr>\n",
       "    <tr>\n",
       "      <th>4</th>\n",
       "      <td>Linda</td>\n",
       "      <td>Thiel</td>\n",
       "      <td>4</td>\n",
       "      <td>CA</td>\n",
       "      <td>22</td>\n",
       "      <td>60.0</td>\n",
       "      <td>40.0</td>\n",
       "    </tr>\n",
       "    <tr>\n",
       "      <th>5</th>\n",
       "      <td>Omar</td>\n",
       "      <td>Reichel</td>\n",
       "      <td>2</td>\n",
       "      <td>OK</td>\n",
       "      <td>21</td>\n",
       "      <td>70.0</td>\n",
       "      <td>50.0</td>\n",
       "    </tr>\n",
       "    <tr>\n",
       "      <th>6</th>\n",
       "      <td>Jane</td>\n",
       "      <td>OConner</td>\n",
       "      <td>2</td>\n",
       "      <td>HI</td>\n",
       "      <td>19</td>\n",
       "      <td>NaN</td>\n",
       "      <td>NaN</td>\n",
       "    </tr>\n",
       "    <tr>\n",
       "      <th>7</th>\n",
       "      <td>Felicia</td>\n",
       "      <td>Rao</td>\n",
       "      <td>3</td>\n",
       "      <td>NY</td>\n",
       "      <td>20</td>\n",
       "      <td>NaN</td>\n",
       "      <td>NaN</td>\n",
       "    </tr>\n",
       "    <tr>\n",
       "      <th>8</th>\n",
       "      <td>Rachel</td>\n",
       "      <td>Crock</td>\n",
       "      <td>1</td>\n",
       "      <td>FL</td>\n",
       "      <td>17</td>\n",
       "      <td>NaN</td>\n",
       "      <td>60.0</td>\n",
       "    </tr>\n",
       "    <tr>\n",
       "      <th>9</th>\n",
       "      <td>Bob</td>\n",
       "      <td>McDonald</td>\n",
       "      <td>1</td>\n",
       "      <td>FL</td>\n",
       "      <td>18</td>\n",
       "      <td>98.0</td>\n",
       "      <td>65.0</td>\n",
       "    </tr>\n",
       "  </tbody>\n",
       "</table>\n",
       "</div>"
      ],
      "text/plain": [
       "  FIRST_NAME  LAST_NAME  YEAR HOME_STATE  AGE  CALC_101_FINAL  \\\n",
       "1     Daniel      Smith     1         NY   18            90.0   \n",
       "2        Ben  Leibstrom     1         NY   19            80.0   \n",
       "3     Kavita    Kanabar     1         PA   19             NaN   \n",
       "4      Linda      Thiel     4         CA   22            60.0   \n",
       "5       Omar    Reichel     2         OK   21            70.0   \n",
       "6       Jane    OConner     2         HI   19             NaN   \n",
       "7    Felicia        Rao     3         NY   20             NaN   \n",
       "8     Rachel      Crock     1         FL   17             NaN   \n",
       "9        Bob   McDonald     1         FL   18            98.0   \n",
       "\n",
       "   ENGLISH_101_FINAL_SCORE  \n",
       "1                     80.0  \n",
       "2                      NaN  \n",
       "3                      NaN  \n",
       "4                     40.0  \n",
       "5                     50.0  \n",
       "6                      NaN  \n",
       "7                      NaN  \n",
       "8                     60.0  \n",
       "9                     65.0  "
      ]
     },
     "execution_count": 15,
     "metadata": {},
     "output_type": "execute_result"
    }
   ],
   "source": [
    "df_students"
   ]
  },
  {
   "cell_type": "code",
   "execution_count": 16,
   "metadata": {},
   "outputs": [
    {
     "data": {
      "text/plain": [
       "'DANIEL'"
      ]
     },
     "execution_count": 16,
     "metadata": {},
     "output_type": "execute_result"
    }
   ],
   "source": [
    "name = 'Daniel'\n",
    "name.upper()"
   ]
  },
  {
   "cell_type": "code",
   "execution_count": 17,
   "metadata": {},
   "outputs": [
    {
     "data": {
      "text/plain": [
       "'Daniel'"
      ]
     },
     "execution_count": 17,
     "metadata": {},
     "output_type": "execute_result"
    }
   ],
   "source": [
    "name"
   ]
  },
  {
   "cell_type": "code",
   "execution_count": 18,
   "metadata": {},
   "outputs": [],
   "source": [
    "df_students = (\n",
    "    df_students.rename(columns={'ENGLISH_101_FINAL_SCORE'\n",
    "                                :'ENGLISH_101_FINAL'}) )"
   ]
  },
  {
   "cell_type": "code",
   "execution_count": 19,
   "metadata": {},
   "outputs": [],
   "source": [
    "df_students = df_students.reset_index(drop=True)"
   ]
  },
  {
   "cell_type": "markdown",
   "metadata": {},
   "source": [
    "### Section 5.5.4"
   ]
  },
  {
   "cell_type": "code",
   "execution_count": 20,
   "metadata": {},
   "outputs": [
    {
     "data": {
      "text/html": [
       "<div>\n",
       "<style scoped>\n",
       "    .dataframe tbody tr th:only-of-type {\n",
       "        vertical-align: middle;\n",
       "    }\n",
       "\n",
       "    .dataframe tbody tr th {\n",
       "        vertical-align: top;\n",
       "    }\n",
       "\n",
       "    .dataframe thead th {\n",
       "        text-align: right;\n",
       "    }\n",
       "</style>\n",
       "<table border=\"1\" class=\"dataframe\">\n",
       "  <thead>\n",
       "    <tr style=\"text-align: right;\">\n",
       "      <th></th>\n",
       "      <th>FIRST_NAME</th>\n",
       "      <th>LAST_NAME</th>\n",
       "      <th>YEAR</th>\n",
       "      <th>HOME_STATE</th>\n",
       "      <th>AGE</th>\n",
       "      <th>CALC_101_FINAL</th>\n",
       "      <th>ENGLISH_101_FINAL</th>\n",
       "    </tr>\n",
       "  </thead>\n",
       "  <tbody>\n",
       "    <tr>\n",
       "      <th>0</th>\n",
       "      <td>Daniel</td>\n",
       "      <td>Smith</td>\n",
       "      <td>1</td>\n",
       "      <td>NY</td>\n",
       "      <td>18</td>\n",
       "      <td>90.0</td>\n",
       "      <td>80.0</td>\n",
       "    </tr>\n",
       "    <tr>\n",
       "      <th>1</th>\n",
       "      <td>Ben</td>\n",
       "      <td>Leibstrom</td>\n",
       "      <td>1</td>\n",
       "      <td>NY</td>\n",
       "      <td>19</td>\n",
       "      <td>80.0</td>\n",
       "      <td>NaN</td>\n",
       "    </tr>\n",
       "    <tr>\n",
       "      <th>2</th>\n",
       "      <td>Kavita</td>\n",
       "      <td>Kanabar</td>\n",
       "      <td>1</td>\n",
       "      <td>PA</td>\n",
       "      <td>19</td>\n",
       "      <td>NaN</td>\n",
       "      <td>NaN</td>\n",
       "    </tr>\n",
       "    <tr>\n",
       "      <th>3</th>\n",
       "      <td>Linda</td>\n",
       "      <td>Thiel</td>\n",
       "      <td>4</td>\n",
       "      <td>CA</td>\n",
       "      <td>22</td>\n",
       "      <td>60.0</td>\n",
       "      <td>40.0</td>\n",
       "    </tr>\n",
       "    <tr>\n",
       "      <th>4</th>\n",
       "      <td>Omar</td>\n",
       "      <td>Reichel</td>\n",
       "      <td>2</td>\n",
       "      <td>OK</td>\n",
       "      <td>21</td>\n",
       "      <td>70.0</td>\n",
       "      <td>50.0</td>\n",
       "    </tr>\n",
       "  </tbody>\n",
       "</table>\n",
       "</div>"
      ],
      "text/plain": [
       "  FIRST_NAME  LAST_NAME  YEAR HOME_STATE  AGE  CALC_101_FINAL  \\\n",
       "0     Daniel      Smith     1         NY   18            90.0   \n",
       "1        Ben  Leibstrom     1         NY   19            80.0   \n",
       "2     Kavita    Kanabar     1         PA   19             NaN   \n",
       "3      Linda      Thiel     4         CA   22            60.0   \n",
       "4       Omar    Reichel     2         OK   21            70.0   \n",
       "\n",
       "   ENGLISH_101_FINAL  \n",
       "0               80.0  \n",
       "1                NaN  \n",
       "2                NaN  \n",
       "3               40.0  \n",
       "4               50.0  "
      ]
     },
     "execution_count": 20,
     "metadata": {},
     "output_type": "execute_result"
    }
   ],
   "source": [
    "df_students.head()"
   ]
  },
  {
   "cell_type": "code",
   "execution_count": 21,
   "metadata": {},
   "outputs": [
    {
     "data": {
      "text/plain": [
       "(9, 7)"
      ]
     },
     "execution_count": 21,
     "metadata": {},
     "output_type": "execute_result"
    }
   ],
   "source": [
    "df_students.shape"
   ]
  },
  {
   "cell_type": "code",
   "execution_count": 22,
   "metadata": {},
   "outputs": [
    {
     "ename": "TypeError",
     "evalue": "'Series' object is not callable",
     "output_type": "error",
     "traceback": [
      "\u001b[1;31m---------------------------------------------------------------------------\u001b[0m",
      "\u001b[1;31mTypeError\u001b[0m                                 Traceback (most recent call last)",
      "\u001b[1;32m<ipython-input-22-b9fc94aeb708>\u001b[0m in \u001b[0;36m<module>\u001b[1;34m\u001b[0m\n\u001b[1;32m----> 1\u001b[1;33m \u001b[0mdf_students\u001b[0m\u001b[1;33m.\u001b[0m\u001b[0mFIRST_NAME\u001b[0m\u001b[1;33m(\u001b[0m\u001b[1;33m)\u001b[0m\u001b[1;33m\u001b[0m\u001b[1;33m\u001b[0m\u001b[0m\n\u001b[0m",
      "\u001b[1;31mTypeError\u001b[0m: 'Series' object is not callable"
     ]
    }
   ],
   "source": [
    "df_students.FIRST_NAME()"
   ]
  },
  {
   "cell_type": "code",
   "execution_count": 23,
   "metadata": {},
   "outputs": [
    {
     "ename": "TypeError",
     "evalue": "'tuple' object is not callable",
     "output_type": "error",
     "traceback": [
      "\u001b[1;31m---------------------------------------------------------------------------\u001b[0m",
      "\u001b[1;31mTypeError\u001b[0m                                 Traceback (most recent call last)",
      "\u001b[1;32m<ipython-input-23-addb0397528b>\u001b[0m in \u001b[0;36m<module>\u001b[1;34m\u001b[0m\n\u001b[1;32m----> 1\u001b[1;33m \u001b[0mdf_students\u001b[0m\u001b[1;33m.\u001b[0m\u001b[0mshape\u001b[0m\u001b[1;33m(\u001b[0m\u001b[1;33m)\u001b[0m\u001b[1;33m\u001b[0m\u001b[1;33m\u001b[0m\u001b[0m\n\u001b[0m",
      "\u001b[1;31mTypeError\u001b[0m: 'tuple' object is not callable"
     ]
    }
   ],
   "source": [
    "df_students.shape()"
   ]
  },
  {
   "cell_type": "code",
   "execution_count": 24,
   "metadata": {},
   "outputs": [
    {
     "data": {
      "text/plain": [
       "<bound method DataFrame.reset_index of   FIRST_NAME  LAST_NAME  YEAR HOME_STATE  AGE  CALC_101_FINAL  \\\n",
       "0     Daniel      Smith     1         NY   18            90.0   \n",
       "1        Ben  Leibstrom     1         NY   19            80.0   \n",
       "2     Kavita    Kanabar     1         PA   19             NaN   \n",
       "3      Linda      Thiel     4         CA   22            60.0   \n",
       "4       Omar    Reichel     2         OK   21            70.0   \n",
       "5       Jane    OConner     2         HI   19             NaN   \n",
       "6    Felicia        Rao     3         NY   20             NaN   \n",
       "7     Rachel      Crock     1         FL   17             NaN   \n",
       "8        Bob   McDonald     1         FL   18            98.0   \n",
       "\n",
       "   ENGLISH_101_FINAL  \n",
       "0               80.0  \n",
       "1                NaN  \n",
       "2                NaN  \n",
       "3               40.0  \n",
       "4               50.0  \n",
       "5                NaN  \n",
       "6                NaN  \n",
       "7               60.0  \n",
       "8               65.0  >"
      ]
     },
     "execution_count": 24,
     "metadata": {},
     "output_type": "execute_result"
    }
   ],
   "source": [
    "df_students.reset_index"
   ]
  },
  {
   "cell_type": "code",
   "execution_count": 25,
   "metadata": {},
   "outputs": [
    {
     "data": {
      "text/plain": [
       "0     Daniel\n",
       "1        Ben\n",
       "2     Kavita\n",
       "3      Linda\n",
       "4       Omar\n",
       "5       Jane\n",
       "6    Felicia\n",
       "7     Rachel\n",
       "8        Bob\n",
       "Name: FIRST_NAME, dtype: object"
      ]
     },
     "execution_count": 25,
     "metadata": {},
     "output_type": "execute_result"
    }
   ],
   "source": [
    "df_students.reset_index().FIRST_NAME"
   ]
  },
  {
   "cell_type": "code",
   "execution_count": 26,
   "metadata": {},
   "outputs": [
    {
     "ename": "AttributeError",
     "evalue": "'function' object has no attribute 'FIRST_NAME'",
     "output_type": "error",
     "traceback": [
      "\u001b[1;31m---------------------------------------------------------------------------\u001b[0m",
      "\u001b[1;31mAttributeError\u001b[0m                            Traceback (most recent call last)",
      "\u001b[1;32m<ipython-input-26-9de3240c480e>\u001b[0m in \u001b[0;36m<module>\u001b[1;34m\u001b[0m\n\u001b[1;32m----> 1\u001b[1;33m \u001b[0mdf_students\u001b[0m\u001b[1;33m.\u001b[0m\u001b[0mreset_index\u001b[0m\u001b[1;33m.\u001b[0m\u001b[0mFIRST_NAME\u001b[0m\u001b[1;33m\u001b[0m\u001b[1;33m\u001b[0m\u001b[0m\n\u001b[0m",
      "\u001b[1;31mAttributeError\u001b[0m: 'function' object has no attribute 'FIRST_NAME'"
     ]
    }
   ],
   "source": [
    "df_students.reset_index.FIRST_NAME"
   ]
  },
  {
   "cell_type": "markdown",
   "metadata": {},
   "source": [
    "### Section 5.5.5"
   ]
  },
  {
   "cell_type": "code",
   "execution_count": 27,
   "metadata": {},
   "outputs": [],
   "source": [
    "df_surfboard = 1"
   ]
  },
  {
   "cell_type": "code",
   "execution_count": 28,
   "metadata": {},
   "outputs": [],
   "source": [
    "def add_numbers(a, b):\n",
    "    return a+b"
   ]
  },
  {
   "cell_type": "code",
   "execution_count": 29,
   "metadata": {},
   "outputs": [],
   "source": [
    "def add_numbers(a, b):\n",
    "    '''\n",
    "    This function takes two numbers, a and b, and returns\n",
    "    the sum\n",
    "    '''\n",
    "    return a+b"
   ]
  },
  {
   "cell_type": "code",
   "execution_count": 30,
   "metadata": {},
   "outputs": [
    {
     "data": {
      "text/plain": [
       "<function __main__.add_numbers(a, b)>"
      ]
     },
     "execution_count": 30,
     "metadata": {},
     "output_type": "execute_result"
    }
   ],
   "source": [
    "add_numbers"
   ]
  },
  {
   "cell_type": "markdown",
   "metadata": {},
   "source": [
    "## Section 5.6"
   ]
  },
  {
   "cell_type": "markdown",
   "metadata": {},
   "source": [
    "### Section 5.6.1"
   ]
  },
  {
   "cell_type": "code",
   "execution_count": 32,
   "metadata": {},
   "outputs": [],
   "source": [
    "df_students = pd.read_excel('raw data/Students.xlsx')"
   ]
  },
  {
   "cell_type": "code",
   "execution_count": 33,
   "metadata": {},
   "outputs": [
    {
     "data": {
      "text/html": [
       "<div>\n",
       "<style scoped>\n",
       "    .dataframe tbody tr th:only-of-type {\n",
       "        vertical-align: middle;\n",
       "    }\n",
       "\n",
       "    .dataframe tbody tr th {\n",
       "        vertical-align: top;\n",
       "    }\n",
       "\n",
       "    .dataframe thead th {\n",
       "        text-align: right;\n",
       "    }\n",
       "</style>\n",
       "<table border=\"1\" class=\"dataframe\">\n",
       "  <thead>\n",
       "    <tr style=\"text-align: right;\">\n",
       "      <th></th>\n",
       "      <th>location</th>\n",
       "      <th>day</th>\n",
       "      <th>number of orders</th>\n",
       "      <th>percentage of deliveries</th>\n",
       "    </tr>\n",
       "  </thead>\n",
       "  <tbody>\n",
       "    <tr>\n",
       "      <th>0</th>\n",
       "      <td>Bryant Park</td>\n",
       "      <td>2018-01-01</td>\n",
       "      <td>373</td>\n",
       "      <td>0.0</td>\n",
       "    </tr>\n",
       "    <tr>\n",
       "      <th>1</th>\n",
       "      <td>Bryant Park</td>\n",
       "      <td>2018-01-02</td>\n",
       "      <td>789</td>\n",
       "      <td>0.0</td>\n",
       "    </tr>\n",
       "    <tr>\n",
       "      <th>2</th>\n",
       "      <td>Bryant Park</td>\n",
       "      <td>2018-01-03</td>\n",
       "      <td>818</td>\n",
       "      <td>0.0</td>\n",
       "    </tr>\n",
       "    <tr>\n",
       "      <th>3</th>\n",
       "      <td>Bryant Park</td>\n",
       "      <td>2018-01-04</td>\n",
       "      <td>782</td>\n",
       "      <td>0.0</td>\n",
       "    </tr>\n",
       "    <tr>\n",
       "      <th>4</th>\n",
       "      <td>Bryant Park</td>\n",
       "      <td>2018-01-05</td>\n",
       "      <td>719</td>\n",
       "      <td>0.0</td>\n",
       "    </tr>\n",
       "  </tbody>\n",
       "</table>\n",
       "</div>"
      ],
      "text/plain": [
       "      location         day  number of orders  percentage of deliveries\n",
       "0  Bryant Park  2018-01-01               373                       0.0\n",
       "1  Bryant Park  2018-01-02               789                       0.0\n",
       "2  Bryant Park  2018-01-03               818                       0.0\n",
       "3  Bryant Park  2018-01-04               782                       0.0\n",
       "4  Bryant Park  2018-01-05               719                       0.0"
      ]
     },
     "execution_count": 33,
     "metadata": {},
     "output_type": "execute_result"
    }
   ],
   "source": [
    "df_summarized_orders = pd.read_csv(\n",
    "    'raw data/Summarized orders.csv')\n",
    "df_summarized_orders.head()"
   ]
  },
  {
   "cell_type": "code",
   "execution_count": 34,
   "metadata": {},
   "outputs": [],
   "source": [
    "df_summarized_orders.columns = ['RESTAURANT_NAME',\n",
    "                                 'DATE', 'NUM_ORDERS',\n",
    "                                          'PERC_DELIVERY']"
   ]
  },
  {
   "cell_type": "code",
   "execution_count": 35,
   "metadata": {},
   "outputs": [],
   "source": [
    "df_items = pd.read_csv('raw data/items.csv')\n",
    "df_restaurants = pd.read_csv('raw data/restaurants.csv')"
   ]
  },
  {
   "cell_type": "code",
   "execution_count": 36,
   "metadata": {},
   "outputs": [
    {
     "data": {
      "text/plain": [
       "(2387224, 10)"
      ]
     },
     "execution_count": 36,
     "metadata": {},
     "output_type": "execute_result"
    }
   ],
   "source": [
    "df_orders = pd.read_csv('raw data/Simplified orders.zip')\n",
    "df_orders.shape"
   ]
  },
  {
   "cell_type": "markdown",
   "metadata": {},
   "source": [
    "### Section 5.6.2"
   ]
  },
  {
   "cell_type": "code",
   "execution_count": 37,
   "metadata": {},
   "outputs": [],
   "source": [
    "df_summarized_orders.to_csv('Chapter 5/Summarized orders new.csv')"
   ]
  },
  {
   "cell_type": "code",
   "execution_count": 38,
   "metadata": {},
   "outputs": [],
   "source": [
    "df_summarized_orders.to_csv('Chapter 5/Summarized orders new.csv',\n",
    "                                               index=False)"
   ]
  },
  {
   "cell_type": "code",
   "execution_count": 39,
   "metadata": {},
   "outputs": [],
   "source": [
    "df_students.to_pickle('Chapter 5/df_students.pickle')"
   ]
  },
  {
   "cell_type": "code",
   "execution_count": 40,
   "metadata": {},
   "outputs": [
    {
     "data": {
      "text/html": [
       "<div>\n",
       "<style scoped>\n",
       "    .dataframe tbody tr th:only-of-type {\n",
       "        vertical-align: middle;\n",
       "    }\n",
       "\n",
       "    .dataframe tbody tr th {\n",
       "        vertical-align: top;\n",
       "    }\n",
       "\n",
       "    .dataframe thead th {\n",
       "        text-align: right;\n",
       "    }\n",
       "</style>\n",
       "<table border=\"1\" class=\"dataframe\">\n",
       "  <thead>\n",
       "    <tr style=\"text-align: right;\">\n",
       "      <th></th>\n",
       "      <th>FIRST_NAME</th>\n",
       "      <th>LAST_NAME</th>\n",
       "      <th>YEAR</th>\n",
       "      <th>HOME_STATE</th>\n",
       "      <th>AGE</th>\n",
       "      <th>CALC_101_FINAL</th>\n",
       "      <th>ENGLISH_101_FINAL</th>\n",
       "    </tr>\n",
       "  </thead>\n",
       "  <tbody>\n",
       "    <tr>\n",
       "      <th>0</th>\n",
       "      <td>Daniel</td>\n",
       "      <td>Smith</td>\n",
       "      <td>1</td>\n",
       "      <td>NY</td>\n",
       "      <td>18</td>\n",
       "      <td>90.0</td>\n",
       "      <td>80.0</td>\n",
       "    </tr>\n",
       "    <tr>\n",
       "      <th>1</th>\n",
       "      <td>Ben</td>\n",
       "      <td>Leibstrom</td>\n",
       "      <td>1</td>\n",
       "      <td>NY</td>\n",
       "      <td>19</td>\n",
       "      <td>80.0</td>\n",
       "      <td>NaN</td>\n",
       "    </tr>\n",
       "    <tr>\n",
       "      <th>2</th>\n",
       "      <td>Kavita</td>\n",
       "      <td>Kanabar</td>\n",
       "      <td>1</td>\n",
       "      <td>PA</td>\n",
       "      <td>19</td>\n",
       "      <td>NaN</td>\n",
       "      <td>NaN</td>\n",
       "    </tr>\n",
       "    <tr>\n",
       "      <th>3</th>\n",
       "      <td>Linda</td>\n",
       "      <td>Thiel</td>\n",
       "      <td>4</td>\n",
       "      <td>CA</td>\n",
       "      <td>22</td>\n",
       "      <td>60.0</td>\n",
       "      <td>40.0</td>\n",
       "    </tr>\n",
       "    <tr>\n",
       "      <th>4</th>\n",
       "      <td>Omar</td>\n",
       "      <td>Reichel</td>\n",
       "      <td>2</td>\n",
       "      <td>OK</td>\n",
       "      <td>21</td>\n",
       "      <td>70.0</td>\n",
       "      <td>50.0</td>\n",
       "    </tr>\n",
       "    <tr>\n",
       "      <th>5</th>\n",
       "      <td>Jane</td>\n",
       "      <td>OConner</td>\n",
       "      <td>2</td>\n",
       "      <td>HI</td>\n",
       "      <td>19</td>\n",
       "      <td>NaN</td>\n",
       "      <td>NaN</td>\n",
       "    </tr>\n",
       "    <tr>\n",
       "      <th>6</th>\n",
       "      <td>Felicia</td>\n",
       "      <td>Rao</td>\n",
       "      <td>3</td>\n",
       "      <td>NY</td>\n",
       "      <td>20</td>\n",
       "      <td>NaN</td>\n",
       "      <td>NaN</td>\n",
       "    </tr>\n",
       "    <tr>\n",
       "      <th>7</th>\n",
       "      <td>Rachel</td>\n",
       "      <td>Crock</td>\n",
       "      <td>1</td>\n",
       "      <td>FL</td>\n",
       "      <td>17</td>\n",
       "      <td>NaN</td>\n",
       "      <td>60.0</td>\n",
       "    </tr>\n",
       "    <tr>\n",
       "      <th>8</th>\n",
       "      <td>Bob</td>\n",
       "      <td>McDonald</td>\n",
       "      <td>1</td>\n",
       "      <td>FL</td>\n",
       "      <td>18</td>\n",
       "      <td>98.0</td>\n",
       "      <td>65.0</td>\n",
       "    </tr>\n",
       "  </tbody>\n",
       "</table>\n",
       "</div>"
      ],
      "text/plain": [
       "  FIRST_NAME  LAST_NAME  YEAR HOME_STATE  AGE  CALC_101_FINAL  \\\n",
       "0     Daniel      Smith     1         NY   18            90.0   \n",
       "1        Ben  Leibstrom     1         NY   19            80.0   \n",
       "2     Kavita    Kanabar     1         PA   19             NaN   \n",
       "3      Linda      Thiel     4         CA   22            60.0   \n",
       "4       Omar    Reichel     2         OK   21            70.0   \n",
       "5       Jane    OConner     2         HI   19             NaN   \n",
       "6    Felicia        Rao     3         NY   20             NaN   \n",
       "7     Rachel      Crock     1         FL   17             NaN   \n",
       "8        Bob   McDonald     1         FL   18            98.0   \n",
       "\n",
       "   ENGLISH_101_FINAL  \n",
       "0               80.0  \n",
       "1                NaN  \n",
       "2                NaN  \n",
       "3               40.0  \n",
       "4               50.0  \n",
       "5                NaN  \n",
       "6                NaN  \n",
       "7               60.0  \n",
       "8               65.0  "
      ]
     },
     "execution_count": 40,
     "metadata": {},
     "output_type": "execute_result"
    }
   ],
   "source": [
    "pd.read_pickle('Chapter 5/df_students.pickle')"
   ]
  },
  {
   "cell_type": "markdown",
   "metadata": {},
   "source": [
    "## Section 5.7"
   ]
  },
  {
   "cell_type": "code",
   "execution_count": 41,
   "metadata": {
    "scrolled": true
   },
   "outputs": [
    {
     "name": "stdout",
     "output_type": "stream",
     "text": [
      "<class 'pandas.core.frame.DataFrame'>\n",
      "RangeIndex: 2387224 entries, 0 to 2387223\n",
      "Data columns (total 10 columns):\n",
      "ORDER_ID         object\n",
      "DATETIME         object\n",
      "RESTAURANT_ID    object\n",
      "TYPE             object\n",
      "DRINKS           float64\n",
      "COOKIES          float64\n",
      "MAIN             object\n",
      "BASE             object\n",
      "SIDE_1           object\n",
      "SIDE_2           object\n",
      "dtypes: float64(2), object(8)\n",
      "memory usage: 182.1+ MB\n"
     ]
    }
   ],
   "source": [
    "df_orders.info()"
   ]
  },
  {
   "cell_type": "code",
   "execution_count": 42,
   "metadata": {},
   "outputs": [],
   "source": [
    "df_orders.DATETIME = pd.to_datetime(df_orders.DATETIME)"
   ]
  },
  {
   "cell_type": "code",
   "execution_count": 43,
   "metadata": {},
   "outputs": [
    {
     "name": "stdout",
     "output_type": "stream",
     "text": [
      "<class 'pandas.core.frame.DataFrame'>\n",
      "RangeIndex: 2387224 entries, 0 to 2387223\n",
      "Data columns (total 10 columns):\n",
      "ORDER_ID         object\n",
      "DATETIME         datetime64[ns]\n",
      "RESTAURANT_ID    object\n",
      "TYPE             object\n",
      "DRINKS           float64\n",
      "COOKIES          float64\n",
      "MAIN             object\n",
      "BASE             object\n",
      "SIDE_1           object\n",
      "SIDE_2           object\n",
      "dtypes: datetime64[ns](1), float64(2), object(7)\n",
      "memory usage: 182.1+ MB\n"
     ]
    }
   ],
   "source": [
    "df_orders.info()"
   ]
  },
  {
   "cell_type": "code",
   "execution_count": 44,
   "metadata": {},
   "outputs": [
    {
     "data": {
      "text/html": [
       "<div>\n",
       "<style scoped>\n",
       "    .dataframe tbody tr th:only-of-type {\n",
       "        vertical-align: middle;\n",
       "    }\n",
       "\n",
       "    .dataframe tbody tr th {\n",
       "        vertical-align: top;\n",
       "    }\n",
       "\n",
       "    .dataframe thead th {\n",
       "        text-align: right;\n",
       "    }\n",
       "</style>\n",
       "<table border=\"1\" class=\"dataframe\">\n",
       "  <thead>\n",
       "    <tr style=\"text-align: right;\">\n",
       "      <th></th>\n",
       "      <th>ORDER_ID</th>\n",
       "      <th>DATETIME</th>\n",
       "      <th>RESTAURANT_ID</th>\n",
       "      <th>TYPE</th>\n",
       "      <th>DRINKS</th>\n",
       "      <th>COOKIES</th>\n",
       "      <th>MAIN</th>\n",
       "      <th>BASE</th>\n",
       "      <th>SIDE_1</th>\n",
       "      <th>SIDE_2</th>\n",
       "    </tr>\n",
       "  </thead>\n",
       "  <tbody>\n",
       "    <tr>\n",
       "      <th>0</th>\n",
       "      <td>O1820060</td>\n",
       "      <td>2018-10-11 17:25:50</td>\n",
       "      <td>R10002</td>\n",
       "      <td>IN_STORE</td>\n",
       "      <td>1.0</td>\n",
       "      <td>2.0</td>\n",
       "      <td>NaN</td>\n",
       "      <td>NaN</td>\n",
       "      <td>NaN</td>\n",
       "      <td>NaN</td>\n",
       "    </tr>\n",
       "    <tr>\n",
       "      <th>1</th>\n",
       "      <td>O1011112</td>\n",
       "      <td>2018-05-31 11:35:00</td>\n",
       "      <td>R10003</td>\n",
       "      <td>IN_STORE</td>\n",
       "      <td>0.0</td>\n",
       "      <td>0.0</td>\n",
       "      <td>NaN</td>\n",
       "      <td>NaN</td>\n",
       "      <td>NaN</td>\n",
       "      <td>NaN</td>\n",
       "    </tr>\n",
       "    <tr>\n",
       "      <th>2</th>\n",
       "      <td>O752854</td>\n",
       "      <td>2018-04-21 18:12:57</td>\n",
       "      <td>R10001</td>\n",
       "      <td>DELIVERY</td>\n",
       "      <td>0.0</td>\n",
       "      <td>2.0</td>\n",
       "      <td>I0</td>\n",
       "      <td>I7</td>\n",
       "      <td>I15</td>\n",
       "      <td>I14</td>\n",
       "    </tr>\n",
       "    <tr>\n",
       "      <th>3</th>\n",
       "      <td>O2076864</td>\n",
       "      <td>2018-11-17 12:50:52</td>\n",
       "      <td>R10005</td>\n",
       "      <td>PICKUP</td>\n",
       "      <td>1.0</td>\n",
       "      <td>0.0</td>\n",
       "      <td>I0</td>\n",
       "      <td>I5</td>\n",
       "      <td>I9</td>\n",
       "      <td>I12</td>\n",
       "    </tr>\n",
       "    <tr>\n",
       "      <th>4</th>\n",
       "      <td>O1988898</td>\n",
       "      <td>2018-11-04 18:37:24</td>\n",
       "      <td>R10008</td>\n",
       "      <td>IN_STORE</td>\n",
       "      <td>0.0</td>\n",
       "      <td>0.0</td>\n",
       "      <td>I1</td>\n",
       "      <td>I7</td>\n",
       "      <td>I9</td>\n",
       "      <td>I9</td>\n",
       "    </tr>\n",
       "  </tbody>\n",
       "</table>\n",
       "</div>"
      ],
      "text/plain": [
       "   ORDER_ID            DATETIME RESTAURANT_ID      TYPE  DRINKS  COOKIES MAIN  \\\n",
       "0  O1820060 2018-10-11 17:25:50        R10002  IN_STORE     1.0      2.0  NaN   \n",
       "1  O1011112 2018-05-31 11:35:00        R10003  IN_STORE     0.0      0.0  NaN   \n",
       "2   O752854 2018-04-21 18:12:57        R10001  DELIVERY     0.0      2.0   I0   \n",
       "3  O2076864 2018-11-17 12:50:52        R10005    PICKUP     1.0      0.0   I0   \n",
       "4  O1988898 2018-11-04 18:37:24        R10008  IN_STORE     0.0      0.0   I1   \n",
       "\n",
       "  BASE SIDE_1 SIDE_2  \n",
       "0  NaN    NaN    NaN  \n",
       "1  NaN    NaN    NaN  \n",
       "2   I7    I15    I14  \n",
       "3   I5     I9    I12  \n",
       "4   I7     I9     I9  "
      ]
     },
     "execution_count": 44,
     "metadata": {},
     "output_type": "execute_result"
    }
   ],
   "source": [
    "df_orders.head()"
   ]
  },
  {
   "cell_type": "code",
   "execution_count": 45,
   "metadata": {},
   "outputs": [
    {
     "data": {
      "text/plain": [
       "0    Thursday\n",
       "1    Thursday\n",
       "2    Saturday\n",
       "3    Saturday\n",
       "4      Sunday\n",
       "Name: DATETIME, dtype: object"
      ]
     },
     "execution_count": 45,
     "metadata": {},
     "output_type": "execute_result"
    }
   ],
   "source": [
    "df_orders.DATETIME.dt.day_name().head()"
   ]
  },
  {
   "cell_type": "code",
   "execution_count": 46,
   "metadata": {},
   "outputs": [
    {
     "data": {
      "text/html": [
       "<div>\n",
       "<style scoped>\n",
       "    .dataframe tbody tr th:only-of-type {\n",
       "        vertical-align: middle;\n",
       "    }\n",
       "\n",
       "    .dataframe tbody tr th {\n",
       "        vertical-align: top;\n",
       "    }\n",
       "\n",
       "    .dataframe thead th {\n",
       "        text-align: right;\n",
       "    }\n",
       "</style>\n",
       "<table border=\"1\" class=\"dataframe\">\n",
       "  <thead>\n",
       "    <tr style=\"text-align: right;\">\n",
       "      <th></th>\n",
       "      <th>RESTAURANT_NAME</th>\n",
       "      <th>DATE</th>\n",
       "      <th>NUM_ORDERS</th>\n",
       "      <th>PERC_DELIVERY</th>\n",
       "    </tr>\n",
       "  </thead>\n",
       "  <tbody>\n",
       "    <tr>\n",
       "      <th>0</th>\n",
       "      <td>Bryant Park</td>\n",
       "      <td>2018-01-01</td>\n",
       "      <td>373</td>\n",
       "      <td>0.0</td>\n",
       "    </tr>\n",
       "    <tr>\n",
       "      <th>1</th>\n",
       "      <td>Bryant Park</td>\n",
       "      <td>2018-01-02</td>\n",
       "      <td>789</td>\n",
       "      <td>0.0</td>\n",
       "    </tr>\n",
       "    <tr>\n",
       "      <th>2</th>\n",
       "      <td>Bryant Park</td>\n",
       "      <td>2018-01-03</td>\n",
       "      <td>818</td>\n",
       "      <td>0.0</td>\n",
       "    </tr>\n",
       "    <tr>\n",
       "      <th>3</th>\n",
       "      <td>Bryant Park</td>\n",
       "      <td>2018-01-04</td>\n",
       "      <td>782</td>\n",
       "      <td>0.0</td>\n",
       "    </tr>\n",
       "    <tr>\n",
       "      <th>4</th>\n",
       "      <td>Bryant Park</td>\n",
       "      <td>2018-01-05</td>\n",
       "      <td>719</td>\n",
       "      <td>0.0</td>\n",
       "    </tr>\n",
       "  </tbody>\n",
       "</table>\n",
       "</div>"
      ],
      "text/plain": [
       "  RESTAURANT_NAME        DATE  NUM_ORDERS  PERC_DELIVERY\n",
       "0     Bryant Park  2018-01-01         373            0.0\n",
       "1     Bryant Park  2018-01-02         789            0.0\n",
       "2     Bryant Park  2018-01-03         818            0.0\n",
       "3     Bryant Park  2018-01-04         782            0.0\n",
       "4     Bryant Park  2018-01-05         719            0.0"
      ]
     },
     "execution_count": 46,
     "metadata": {},
     "output_type": "execute_result"
    }
   ],
   "source": [
    "df_summarized_orders.head()"
   ]
  },
  {
   "cell_type": "code",
   "execution_count": 47,
   "metadata": {},
   "outputs": [
    {
     "data": {
      "text/html": [
       "<div>\n",
       "<style scoped>\n",
       "    .dataframe tbody tr th:only-of-type {\n",
       "        vertical-align: middle;\n",
       "    }\n",
       "\n",
       "    .dataframe tbody tr th {\n",
       "        vertical-align: top;\n",
       "    }\n",
       "\n",
       "    .dataframe thead th {\n",
       "        text-align: right;\n",
       "    }\n",
       "</style>\n",
       "<table border=\"1\" class=\"dataframe\">\n",
       "  <thead>\n",
       "    <tr style=\"text-align: right;\">\n",
       "      <th></th>\n",
       "      <th>RESTAURANT_NAME</th>\n",
       "      <th>DATE</th>\n",
       "      <th>NUM_ORDERS</th>\n",
       "      <th>PERC_DELIVERY</th>\n",
       "    </tr>\n",
       "  </thead>\n",
       "  <tbody>\n",
       "    <tr>\n",
       "      <th>0</th>\n",
       "      <td>Bryant Park</td>\n",
       "      <td>2018-01-01</td>\n",
       "      <td>373</td>\n",
       "      <td>0.0</td>\n",
       "    </tr>\n",
       "    <tr>\n",
       "      <th>1</th>\n",
       "      <td>Bryant Park</td>\n",
       "      <td>2018-01-02</td>\n",
       "      <td>789</td>\n",
       "      <td>0.0</td>\n",
       "    </tr>\n",
       "    <tr>\n",
       "      <th>2</th>\n",
       "      <td>Bryant Park</td>\n",
       "      <td>2018-01-03</td>\n",
       "      <td>818</td>\n",
       "      <td>0.0</td>\n",
       "    </tr>\n",
       "    <tr>\n",
       "      <th>3</th>\n",
       "      <td>Bryant Park</td>\n",
       "      <td>2018-01-04</td>\n",
       "      <td>782</td>\n",
       "      <td>0.0</td>\n",
       "    </tr>\n",
       "    <tr>\n",
       "      <th>4</th>\n",
       "      <td>Bryant Park</td>\n",
       "      <td>2018-01-05</td>\n",
       "      <td>719</td>\n",
       "      <td>0.0</td>\n",
       "    </tr>\n",
       "  </tbody>\n",
       "</table>\n",
       "</div>"
      ],
      "text/plain": [
       "  RESTAURANT_NAME       DATE  NUM_ORDERS  PERC_DELIVERY\n",
       "0     Bryant Park 2018-01-01         373            0.0\n",
       "1     Bryant Park 2018-01-02         789            0.0\n",
       "2     Bryant Park 2018-01-03         818            0.0\n",
       "3     Bryant Park 2018-01-04         782            0.0\n",
       "4     Bryant Park 2018-01-05         719            0.0"
      ]
     },
     "execution_count": 47,
     "metadata": {},
     "output_type": "execute_result"
    }
   ],
   "source": [
    "df_summarized_orders.DATE = ( \n",
    "    pd.to_datetime(df_summarized_orders.DATE) )\n",
    "df_summarized_orders.head()"
   ]
  },
  {
   "cell_type": "markdown",
   "metadata": {},
   "source": [
    "## Section 5.8"
   ]
  },
  {
   "cell_type": "code",
   "execution_count": 48,
   "metadata": {},
   "outputs": [],
   "source": [
    "df_students.to_pickle('Chapter 5/students.pickle')\n",
    "df_orders.to_pickle('Chapter 5/orders.pickle')\n",
    "df_summarized_orders.to_pickle( \n",
    "    'Chapter 5/summarized_orders.pickle')\n",
    "df_items.to_pickle('Chapter 5/items.pickle')\n",
    "df_restaurants.to_pickle('Chapter 5/restaurants.pickle')"
   ]
  }
 ],
 "metadata": {
  "kernelspec": {
   "display_name": "Python 3",
   "language": "python",
   "name": "python3"
  },
  "language_info": {
   "codemirror_mode": {
    "name": "ipython",
    "version": 3
   },
   "file_extension": ".py",
   "mimetype": "text/x-python",
   "name": "python",
   "nbconvert_exporter": "python",
   "pygments_lexer": "ipython3",
   "version": "3.7.2"
  }
 },
 "nbformat": 4,
 "nbformat_minor": 2
}
